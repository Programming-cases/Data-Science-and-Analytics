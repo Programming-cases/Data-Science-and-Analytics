{
 "cells": [
  {
   "cell_type": "markdown",
   "metadata": {
    "toc": true
   },
   "source": [
    "<h1>Table of Contents<span class=\"tocSkip\"></span></h1>\n",
    "<div class=\"toc\"><ul class=\"toc-item\"><li><span><a href=\"#Solution-1\" data-toc-modified-id=\"Solution-1-1\"><span class=\"toc-item-num\">1&nbsp;&nbsp;</span>Solution 1</a></span><ul class=\"toc-item\"><li><ul class=\"toc-item\"><li><span><a href=\"#Checking-the-level-of-independence-between-both-groups\" data-toc-modified-id=\"Checking-the-level-of-independence-between-both-groups-1.0.1\"><span class=\"toc-item-num\">1.0.1&nbsp;&nbsp;</span>Checking the level of independence between both groups</a></span></li></ul></li></ul></li><li><span><a href=\"#Solution-2\" data-toc-modified-id=\"Solution-2-2\"><span class=\"toc-item-num\">2&nbsp;&nbsp;</span>Solution 2</a></span><ul class=\"toc-item\"><li><ul class=\"toc-item\"><li><span><a href=\"#Barplots-on-numeric-columns\" data-toc-modified-id=\"Barplots-on-numeric-columns-2.0.1\"><span class=\"toc-item-num\">2.0.1&nbsp;&nbsp;</span>Barplots on numeric columns</a></span></li><li><span><a href=\"#Barplot-on-character-columns\" data-toc-modified-id=\"Barplot-on-character-columns-2.0.2\"><span class=\"toc-item-num\">2.0.2&nbsp;&nbsp;</span>Barplot on character columns</a></span></li></ul></li></ul></li><li><span><a href=\"#Solution-3\" data-toc-modified-id=\"Solution-3-3\"><span class=\"toc-item-num\">3&nbsp;&nbsp;</span>Solution 3</a></span><ul class=\"toc-item\"><li><ul class=\"toc-item\"><li><span><a href=\"#Number-of-unique-users\" data-toc-modified-id=\"Number-of-unique-users-3.0.1\"><span class=\"toc-item-num\">3.0.1&nbsp;&nbsp;</span>Number of unique users</a></span></li><li><span><a href=\"#Number-of-paying-users-among-users-registered-this-month\" data-toc-modified-id=\"Number-of-paying-users-among-users-registered-this-month-3.0.2\"><span class=\"toc-item-num\">3.0.2&nbsp;&nbsp;</span>Number of paying users among users registered this month</a></span></li><li><span><a href=\"#Average-daily-active-users-per-month\" data-toc-modified-id=\"Average-daily-active-users-per-month-3.0.3\"><span class=\"toc-item-num\">3.0.3&nbsp;&nbsp;</span>Average daily active users per month</a></span></li><li><span><a href=\"#Percentage-of-users-who-made-their-first-payment-in-3-days-after-installation\" data-toc-modified-id=\"Percentage-of-users-who-made-their-first-payment-in-3-days-after-installation-3.0.4\"><span class=\"toc-item-num\">3.0.4&nbsp;&nbsp;</span>Percentage of users who made their first payment in 3 days after installation</a></span></li><li><span><a href=\"#Percentage-of-users-who-made-their-first-payment-in-3-days-after-installation-and-had-at-least-2-battles-in-7-days-after-installation\" data-toc-modified-id=\"Percentage-of-users-who-made-their-first-payment-in-3-days-after-installation-and-had-at-least-2-battles-in-7-days-after-installation-3.0.5\"><span class=\"toc-item-num\">3.0.5&nbsp;&nbsp;</span>Percentage of users who made their first payment in 3 days after installation and had at least 2 battles in 7 days after installation</a></span></li><li><span><a href=\"#Average-lag-(in-days)-between-purchases-per-user\" data-toc-modified-id=\"Average-lag-(in-days)-between-purchases-per-user-3.0.6\"><span class=\"toc-item-num\">3.0.6&nbsp;&nbsp;</span>Average lag (in days) between purchases per user</a></span></li></ul></li></ul></li></ul></div>"
   ]
  },
  {
   "cell_type": "markdown",
   "metadata": {},
   "source": [
    "  <br><center style=\"font-family:Segoe Print;font-size:1.95em;color:maroon;font-style:bold\"> Business Data Scientist test solution </center>\n",
    " ![](https://cdn1.dotesports.com/wp-content/uploads/2020/06/08094805/sandsoft-logo-768x265.jpg) \n",
    " <br>\n",
    "  **Juan Pablo Delzo Melendez**\n",
    "  \n",
    "  Note:The solution was done in R  "
   ]
  },
  {
   "cell_type": "code",
   "execution_count": 1,
   "metadata": {},
   "outputs": [
    {
     "name": "stderr",
     "output_type": "stream",
     "text": [
      "Warning message:\n",
      "\"package 'dplyr' was built under R version 3.6.3\"\n",
      "Attaching package: 'dplyr'\n",
      "\n",
      "The following objects are masked from 'package:stats':\n",
      "\n",
      "    filter, lag\n",
      "\n",
      "The following objects are masked from 'package:base':\n",
      "\n",
      "    intersect, setdiff, setequal, union\n",
      "\n",
      "Warning message:\n",
      "\"package 'skimr' was built under R version 3.6.3\""
     ]
    }
   ],
   "source": [
    "library(dplyr)\n",
    "library(skimr)"
   ]
  },
  {
   "cell_type": "markdown",
   "metadata": {},
   "source": [
    "## Solution 1"
   ]
  },
  {
   "cell_type": "code",
   "execution_count": 2,
   "metadata": {},
   "outputs": [
    {
     "name": "stderr",
     "output_type": "stream",
     "text": [
      "Loading required package: carData\n",
      "\n",
      "Attaching package: 'car'\n",
      "\n",
      "The following object is masked from 'package:dplyr':\n",
      "\n",
      "    recode\n",
      "\n",
      "\n",
      "Attaching package: 'MASS'\n",
      "\n",
      "The following object is masked from 'package:dplyr':\n",
      "\n",
      "    select\n",
      "\n"
     ]
    }
   ],
   "source": [
    "library(car)#U de Mann-Whitney  \n",
    "library(nortest)# Kolmogorov-Smirnov\n",
    "library(MASS)#Correlation analysis"
   ]
  },
  {
   "cell_type": "code",
   "execution_count": 3,
   "metadata": {},
   "outputs": [
    {
     "data": {
      "text/html": [
       "<table>\n",
       "<thead><tr><th scope=col>group_A</th><th scope=col>group_B</th></tr></thead>\n",
       "<tbody>\n",
       "\t<tr><td>21</td><td>21</td></tr>\n",
       "\t<tr><td>18</td><td>12</td></tr>\n",
       "\t<tr><td>12</td><td> 8</td></tr>\n",
       "\t<tr><td> 8</td><td>22</td></tr>\n",
       "\t<tr><td>20</td><td> 5</td></tr>\n",
       "\t<tr><td> 8</td><td>24</td></tr>\n",
       "</tbody>\n",
       "</table>\n"
      ],
      "text/latex": [
       "\\begin{tabular}{r|ll}\n",
       " group\\_A & group\\_B\\\\\n",
       "\\hline\n",
       "\t 21 & 21\\\\\n",
       "\t 18 & 12\\\\\n",
       "\t 12 &  8\\\\\n",
       "\t  8 & 22\\\\\n",
       "\t 20 &  5\\\\\n",
       "\t  8 & 24\\\\\n",
       "\\end{tabular}\n"
      ],
      "text/markdown": [
       "\n",
       "| group_A | group_B |\n",
       "|---|---|\n",
       "| 21 | 21 |\n",
       "| 18 | 12 |\n",
       "| 12 |  8 |\n",
       "|  8 | 22 |\n",
       "| 20 |  5 |\n",
       "|  8 | 24 |\n",
       "\n"
      ],
      "text/plain": [
       "  group_A group_B\n",
       "1 21      21     \n",
       "2 18      12     \n",
       "3 12       8     \n",
       "4  8      22     \n",
       "5 20       5     \n",
       "6  8      24     "
      ]
     },
     "metadata": {},
     "output_type": "display_data"
    }
   ],
   "source": [
    "payments = read.csv(\"ab_test.csv\")\n",
    "colnames(payments)[1]= \"group_A\"\n",
    "head(payments)"
   ]
  },
  {
   "cell_type": "code",
   "execution_count": 4,
   "metadata": {},
   "outputs": [
    {
     "name": "stdout",
     "output_type": "stream",
     "text": [
      "-- Data Summary ------------------------\n",
      "                           Values  \n",
      "Name                       payments\n",
      "Number of rows             89      \n",
      "Number of columns          2       \n",
      "_______________________            \n",
      "Column type frequency:             \n",
      "  numeric                  2       \n",
      "________________________           \n",
      "Group variables            None    \n",
      "\n",
      "-- Variable type: numeric ------------------------------------------------------\n",
      "# A tibble: 2 x 11\n",
      "  skim_variable n_missing complete_rate  mean    sd    p0   p25   p50   p75\n",
      "* <chr>             <int>         <dbl> <dbl> <dbl> <dbl> <dbl> <dbl> <dbl>\n",
      "1 group_A               0             1  17.2  6.92     5    12    17    21\n",
      "2 group_B               0             1  19.2 14.8      5    11    17    21\n",
      "   p100 hist \n",
      "* <dbl> <chr>\n",
      "1    40 <U+2586><U+2587><U+2586><U+2581><U+2581>\n",
      "2    70 <U+2587><U+2585><U+2581><U+2581><U+2581>\n"
     ]
    }
   ],
   "source": [
    "skim(payments)"
   ]
  },
  {
   "cell_type": "code",
   "execution_count": 5,
   "metadata": {},
   "outputs": [
    {
     "data": {
      "image/png": "[encoded data removed]",
      "text/plain": [
       "plot without title"
      ]
     },
     "metadata": {},
     "output_type": "display_data"
    }
   ],
   "source": [
    "boxplot(payments,col=rainbow(ncol(payments)))"
   ]
  },
  {
   "cell_type": "markdown",
   "metadata": {},
   "source": [
    "The means are similar but the medians are equal."
   ]
  },
  {
   "cell_type": "code",
   "execution_count": 6,
   "metadata": {},
   "outputs": [
    {
     "data": {
      "image/png": "[encoded data removed]",
      "text/plain": [
       "Plot with title \"Group A\""
      ]
     },
     "metadata": {},
     "output_type": "display_data"
    }
   ],
   "source": [
    "#GROUP A\n",
    "options(repr.plot.width=6,repr.plot.height=4)\n",
    "# Histogram\n",
    "hist(payments$group_A, probability = T, xlab = \"\", ylab=\"\", col = \"grey\",\n",
    "     axes = F, main = \"Group A\")\n",
    "# Axis\n",
    "axis(1)\n",
    "# Density\n",
    "lines(density(payments$group_A), col = \"red\", lwd = 2)\n",
    "# Add boxplot\n",
    "par(new = T)\n",
    "boxplot(payments$group_A, horizontal = T, axes = F,\n",
    "        lwd = 2, col = rgb(0, 1, 1, alpha = 0.15))"
   ]
  },
  {
   "cell_type": "code",
   "execution_count": 7,
   "metadata": {},
   "outputs": [
    {
     "data": {
      "image/png": "[encoded data removed]",
      "text/plain": [
       "Plot with title \"Group B\""
      ]
     },
     "metadata": {},
     "output_type": "display_data"
    }
   ],
   "source": [
    "#GROUP B\n",
    "options(repr.plot.width=6,repr.plot.height=4)\n",
    "# Histogram\n",
    "hist(payments$group_B, probability = T, xlab = \"\", ylab=\"\", col = \"grey\",\n",
    "     axes = F, main = \"Group B\")\n",
    "# Axis\n",
    "axis(1)\n",
    "# Density\n",
    "lines(density(payments$group_B), col = \"red\", lwd = 2)\n",
    "# Add boxplot\n",
    "par(new = T)\n",
    "boxplot(payments$group_B, horizontal = T, axes = F,\n",
    "        lwd = 2, col = rgb(0, 1, 1, alpha = 0.15))"
   ]
  },
  {
   "cell_type": "markdown",
   "metadata": {},
   "source": [
    "#### Checking the level of independence between both groups"
   ]
  },
  {
   "cell_type": "code",
   "execution_count": 8,
   "metadata": {},
   "outputs": [
    {
     "data": {
      "text/html": [
       "-0.175361645863457"
      ],
      "text/latex": [
       "-0.175361645863457"
      ],
      "text/markdown": [
       "-0.175361645863457"
      ],
      "text/plain": [
       "[1] -0.1753616"
      ]
     },
     "metadata": {},
     "output_type": "display_data"
    }
   ],
   "source": [
    "cor(payments$group_A,payments$group_B)"
   ]
  },
  {
   "cell_type": "markdown",
   "metadata": {},
   "source": [
    "- Being demanding, the group A wants to approach to fit a Normal Distribution but Group B's fit is really poor. \n",
    "- According to the correlation grade,I can say they practically behave indepedent of each other <br> <br>\n",
    "The method to tackle the analysis is based on the following diagram:\n",
    "\n",
    "![](Diagramaflujoanalisisdemedias.png)\n",
    "\n",
    "Search: https://www.youtube.com/watch?v=YPTi65ub7K8&list=LL&index=3&t=6s\n",
    "\n",
    "Initially I assumed the `payments`  fulfills the rules of Parametric Statistic. It's to say that they fit a Normal Distribution.Under that I apply Kolmogorov-Smirnov test:"
   ]
  },
  {
   "cell_type": "code",
   "execution_count": 9,
   "metadata": {},
   "outputs": [
    {
     "data": {
      "text/plain": [
       "\n",
       "\tLilliefors (Kolmogorov-Smirnov) normality test\n",
       "\n",
       "data:  payments$group_A\n",
       "D = 0.094823, p-value = 0.04664\n"
      ]
     },
     "metadata": {},
     "output_type": "display_data"
    }
   ],
   "source": [
    "#Group A\n",
    "lillie.test(payments$group_A)"
   ]
  },
  {
   "cell_type": "code",
   "execution_count": 10,
   "metadata": {},
   "outputs": [
    {
     "data": {
      "text/plain": [
       "\n",
       "\tLilliefors (Kolmogorov-Smirnov) normality test\n",
       "\n",
       "data:  payments$group_B\n",
       "D = 0.28088, p-value < 2.2e-16\n"
      ]
     },
     "metadata": {},
     "output_type": "display_data"
    }
   ],
   "source": [
    "#Group B\n",
    "lillie.test(payments$group_B)"
   ]
  },
  {
   "cell_type": "markdown",
   "metadata": {},
   "source": [
    "In both cases, p-values < 0.005.<br>\n",
    "They were already expected not to fit quite well, therefore the initial hypothesis is refused. So according to the diagram,I go directly to apply U de Mann-Whitney Test on the hypothesis that they have similar means:"
   ]
  },
  {
   "cell_type": "code",
   "execution_count": 11,
   "metadata": {},
   "outputs": [
    {
     "data": {
      "text/plain": [
       "\n",
       "\tWilcoxon rank sum test with continuity correction\n",
       "\n",
       "data:  payments$group_A and payments$group_B\n",
       "W = 4079, p-value = 0.731\n",
       "alternative hypothesis: true location shift is not equal to 0\n"
      ]
     },
     "metadata": {},
     "output_type": "display_data"
    }
   ],
   "source": [
    "wilcox.test(payments$group_A,payments$group_B)"
   ]
  },
  {
   "cell_type": "markdown",
   "metadata": {},
   "source": [
    "As p_value=0.731 > 0.005,therefore I can state I keep the hypothesis that **their means on average don't have significative difference statistically**."
   ]
  },
  {
   "cell_type": "markdown",
   "metadata": {},
   "source": [
    "## Solution 2"
   ]
  },
  {
   "cell_type": "code",
   "execution_count": 12,
   "metadata": {},
   "outputs": [
    {
     "name": "stderr",
     "output_type": "stream",
     "text": [
      "Warning message:\n",
      "\"package 'glue' was built under R version 3.6.3\"\n",
      "Attaching package: 'glue'\n",
      "\n",
      "The following object is masked from 'package:dplyr':\n",
      "\n",
      "    collapse\n",
      "\n",
      "corrplot 0.92 loaded\n",
      "Warning message:\n",
      "\"package 'partykit' was built under R version 3.6.3\"Loading required package: grid\n",
      "Loading required package: libcoin\n",
      "Warning message:\n",
      "\"package 'libcoin' was built under R version 3.6.3\"Loading required package: mvtnorm\n",
      "Warning message:\n",
      "\"package 'mvtnorm' was built under R version 3.6.3\"Warning message:\n",
      "\"package 'ggplot2' was built under R version 3.6.3\""
     ]
    }
   ],
   "source": [
    "library(glue)#a tool similar to python for editing code strings\n",
    "library(corrplot)#correlation analysis\n",
    "library(partykit)#decision trees \n",
    "library(ggplot2)#graphs"
   ]
  },
  {
   "cell_type": "code",
   "execution_count": 13,
   "metadata": {},
   "outputs": [],
   "source": [
    "subscriptions = read.csv(\"mobile_game_subscriptions.csv\", stringsAsFactors =F)\n",
    "#It's first better to declare the factor data as character in order to handle them faster and easer "
   ]
  },
  {
   "cell_type": "code",
   "execution_count": 14,
   "metadata": {},
   "outputs": [
    {
     "data": {
      "text/html": [
       "<table>\n",
       "<thead><tr><th scope=col>customer_id</th><th scope=col>gender</th><th scope=col>vip_status</th><th scope=col>guild_member</th><th scope=col>referrals</th><th scope=col>tenure_months</th><th scope=col>chat_activated</th><th scope=col>custom_avatar</th><th scope=col>subscription_type</th><th scope=col>X2FA</th><th scope=col>...</th><th scope=col>disconnection_protection</th><th scope=col>premium_support</th><th scope=col>quick_charge</th><th scope=col>extra_stamina</th><th scope=col>subscription_type.1</th><th scope=col>email_billing</th><th scope=col>payment_method</th><th scope=col>monthly_charges_usd</th><th scope=col>total_charges_usd</th><th scope=col>opt_out</th></tr></thead>\n",
       "<tbody>\n",
       "\t<tr><td>957e0bbf-d3a7-4053-828c-ab88faad57c8</td><td>Female                              </td><td>0                                   </td><td>Yes                                 </td><td>No                                  </td><td> 1                                  </td><td>No                                  </td><td>No                                  </td><td>Advanced                            </td><td>No                                  </td><td>...                                 </td><td>No                                  </td><td>No                                  </td><td>No                                  </td><td>No                                  </td><td>Monthly                             </td><td>Yes                                 </td><td>Skrill                              </td><td>29.85                               </td><td>  29.85                             </td><td>No                                  </td></tr>\n",
       "\t<tr><td>791ddcbe-4134-4f8e-84b6-b633fb56827a</td><td>Male                                </td><td>0                                   </td><td>No                                  </td><td>No                                  </td><td>34                                  </td><td>Yes                                 </td><td>Simple                              </td><td>Advanced                            </td><td>Yes                                 </td><td>...                                 </td><td>Yes                                 </td><td>No                                  </td><td>No                                  </td><td>No                                  </td><td>Yearly                              </td><td>No                                  </td><td>PayPal                              </td><td>56.95                               </td><td>1889.50                             </td><td>No                                  </td></tr>\n",
       "\t<tr><td>bee89365-8e23-4bac-96d6-4894dd331263</td><td>Male                                </td><td>0                                   </td><td>No                                  </td><td>No                                  </td><td> 2                                  </td><td>Yes                                 </td><td>Simple                              </td><td>Advanced                            </td><td>Yes                                 </td><td>...                                 </td><td>No                                  </td><td>No                                  </td><td>No                                  </td><td>No                                  </td><td>Monthly                             </td><td>Yes                                 </td><td>PayPal                              </td><td>53.85                               </td><td> 108.15                             </td><td>Yes                                 </td></tr>\n",
       "\t<tr><td>c6aae754-2f39-470c-9aef-36d3622f996f</td><td>Male                                </td><td>0                                   </td><td>No                                  </td><td>No                                  </td><td>45                                  </td><td>No                                  </td><td>No                                  </td><td>Advanced                            </td><td>Yes                                 </td><td>...                                 </td><td>Yes                                 </td><td>Yes                                 </td><td>No                                  </td><td>No                                  </td><td>Yearly                              </td><td>No                                  </td><td>Bank                                </td><td>42.30                               </td><td>1840.75                             </td><td>No                                  </td></tr>\n",
       "\t<tr><td>0c319e7e-4752-496e-8e38-5adff5592d38</td><td>Female                              </td><td>0                                   </td><td>No                                  </td><td>No                                  </td><td> 2                                  </td><td>Yes                                 </td><td>Simple                              </td><td>Pro                                 </td><td>No                                  </td><td>...                                 </td><td>No                                  </td><td>No                                  </td><td>No                                  </td><td>No                                  </td><td>Monthly                             </td><td>Yes                                 </td><td>Skrill                              </td><td>70.70                               </td><td> 151.65                             </td><td>Yes                                 </td></tr>\n",
       "\t<tr><td>a649fa5e-529b-40ec-ad54-6e9ef8560752</td><td>Female                              </td><td>0                                   </td><td>No                                  </td><td>No                                  </td><td> 8                                  </td><td>Yes                                 </td><td>Multiple                            </td><td>Pro                                 </td><td>No                                  </td><td>...                                 </td><td>Yes                                 </td><td>No                                  </td><td>Yes                                 </td><td>Yes                                 </td><td>Monthly                             </td><td>Yes                                 </td><td>Skrill                              </td><td>99.65                               </td><td> 820.50                             </td><td>Yes                                 </td></tr>\n",
       "</tbody>\n",
       "</table>\n"
      ],
      "text/latex": [
       "\\begin{tabular}{r|lllllllllllllllllllll}\n",
       " customer\\_id & gender & vip\\_status & guild\\_member & referrals & tenure\\_months & chat\\_activated & custom\\_avatar & subscription\\_type & X2FA & ... & disconnection\\_protection & premium\\_support & quick\\_charge & extra\\_stamina & subscription\\_type.1 & email\\_billing & payment\\_method & monthly\\_charges\\_usd & total\\_charges\\_usd & opt\\_out\\\\\n",
       "\\hline\n",
       "\t 957e0bbf-d3a7-4053-828c-ab88faad57c8 & Female                               & 0                                    & Yes                                  & No                                   &  1                                   & No                                   & No                                   & Advanced                             & No                                   & ...                                  & No                                   & No                                   & No                                   & No                                   & Monthly                              & Yes                                  & Skrill                               & 29.85                                &   29.85                              & No                                  \\\\\n",
       "\t 791ddcbe-4134-4f8e-84b6-b633fb56827a & Male                                 & 0                                    & No                                   & No                                   & 34                                   & Yes                                  & Simple                               & Advanced                             & Yes                                  & ...                                  & Yes                                  & No                                   & No                                   & No                                   & Yearly                               & No                                   & PayPal                               & 56.95                                & 1889.50                              & No                                  \\\\\n",
       "\t bee89365-8e23-4bac-96d6-4894dd331263 & Male                                 & 0                                    & No                                   & No                                   &  2                                   & Yes                                  & Simple                               & Advanced                             & Yes                                  & ...                                  & No                                   & No                                   & No                                   & No                                   & Monthly                              & Yes                                  & PayPal                               & 53.85                                &  108.15                              & Yes                                 \\\\\n",
       "\t c6aae754-2f39-470c-9aef-36d3622f996f & Male                                 & 0                                    & No                                   & No                                   & 45                                   & No                                   & No                                   & Advanced                             & Yes                                  & ...                                  & Yes                                  & Yes                                  & No                                   & No                                   & Yearly                               & No                                   & Bank                                 & 42.30                                & 1840.75                              & No                                  \\\\\n",
       "\t 0c319e7e-4752-496e-8e38-5adff5592d38 & Female                               & 0                                    & No                                   & No                                   &  2                                   & Yes                                  & Simple                               & Pro                                  & No                                   & ...                                  & No                                   & No                                   & No                                   & No                                   & Monthly                              & Yes                                  & Skrill                               & 70.70                                &  151.65                              & Yes                                 \\\\\n",
       "\t a649fa5e-529b-40ec-ad54-6e9ef8560752 & Female                               & 0                                    & No                                   & No                                   &  8                                   & Yes                                  & Multiple                             & Pro                                  & No                                   & ...                                  & Yes                                  & No                                   & Yes                                  & Yes                                  & Monthly                              & Yes                                  & Skrill                               & 99.65                                &  820.50                              & Yes                                 \\\\\n",
       "\\end{tabular}\n"
      ],
      "text/markdown": [
       "\n",
       "| customer_id | gender | vip_status | guild_member | referrals | tenure_months | chat_activated | custom_avatar | subscription_type | X2FA | ... | disconnection_protection | premium_support | quick_charge | extra_stamina | subscription_type.1 | email_billing | payment_method | monthly_charges_usd | total_charges_usd | opt_out |\n",
       "|---|---|---|---|---|---|---|---|---|---|---|---|---|---|---|---|---|---|---|---|---|\n",
       "| 957e0bbf-d3a7-4053-828c-ab88faad57c8 | Female                               | 0                                    | Yes                                  | No                                   |  1                                   | No                                   | No                                   | Advanced                             | No                                   | ...                                  | No                                   | No                                   | No                                   | No                                   | Monthly                              | Yes                                  | Skrill                               | 29.85                                |   29.85                              | No                                   |\n",
       "| 791ddcbe-4134-4f8e-84b6-b633fb56827a | Male                                 | 0                                    | No                                   | No                                   | 34                                   | Yes                                  | Simple                               | Advanced                             | Yes                                  | ...                                  | Yes                                  | No                                   | No                                   | No                                   | Yearly                               | No                                   | PayPal                               | 56.95                                | 1889.50                              | No                                   |\n",
       "| bee89365-8e23-4bac-96d6-4894dd331263 | Male                                 | 0                                    | No                                   | No                                   |  2                                   | Yes                                  | Simple                               | Advanced                             | Yes                                  | ...                                  | No                                   | No                                   | No                                   | No                                   | Monthly                              | Yes                                  | PayPal                               | 53.85                                |  108.15                              | Yes                                  |\n",
       "| c6aae754-2f39-470c-9aef-36d3622f996f | Male                                 | 0                                    | No                                   | No                                   | 45                                   | No                                   | No                                   | Advanced                             | Yes                                  | ...                                  | Yes                                  | Yes                                  | No                                   | No                                   | Yearly                               | No                                   | Bank                                 | 42.30                                | 1840.75                              | No                                   |\n",
       "| 0c319e7e-4752-496e-8e38-5adff5592d38 | Female                               | 0                                    | No                                   | No                                   |  2                                   | Yes                                  | Simple                               | Pro                                  | No                                   | ...                                  | No                                   | No                                   | No                                   | No                                   | Monthly                              | Yes                                  | Skrill                               | 70.70                                |  151.65                              | Yes                                  |\n",
       "| a649fa5e-529b-40ec-ad54-6e9ef8560752 | Female                               | 0                                    | No                                   | No                                   |  8                                   | Yes                                  | Multiple                             | Pro                                  | No                                   | ...                                  | Yes                                  | No                                   | Yes                                  | Yes                                  | Monthly                              | Yes                                  | Skrill                               | 99.65                                |  820.50                              | Yes                                  |\n",
       "\n"
      ],
      "text/plain": [
       "  customer_id                          gender vip_status guild_member referrals\n",
       "1 957e0bbf-d3a7-4053-828c-ab88faad57c8 Female 0          Yes          No       \n",
       "2 791ddcbe-4134-4f8e-84b6-b633fb56827a Male   0          No           No       \n",
       "3 bee89365-8e23-4bac-96d6-4894dd331263 Male   0          No           No       \n",
       "4 c6aae754-2f39-470c-9aef-36d3622f996f Male   0          No           No       \n",
       "5 0c319e7e-4752-496e-8e38-5adff5592d38 Female 0          No           No       \n",
       "6 a649fa5e-529b-40ec-ad54-6e9ef8560752 Female 0          No           No       \n",
       "  tenure_months chat_activated custom_avatar subscription_type X2FA ...\n",
       "1  1            No             No            Advanced          No   ...\n",
       "2 34            Yes            Simple        Advanced          Yes  ...\n",
       "3  2            Yes            Simple        Advanced          Yes  ...\n",
       "4 45            No             No            Advanced          Yes  ...\n",
       "5  2            Yes            Simple        Pro               No   ...\n",
       "6  8            Yes            Multiple      Pro               No   ...\n",
       "  disconnection_protection premium_support quick_charge extra_stamina\n",
       "1 No                       No              No           No           \n",
       "2 Yes                      No              No           No           \n",
       "3 No                       No              No           No           \n",
       "4 Yes                      Yes             No           No           \n",
       "5 No                       No              No           No           \n",
       "6 Yes                      No              Yes          Yes          \n",
       "  subscription_type.1 email_billing payment_method monthly_charges_usd\n",
       "1 Monthly             Yes           Skrill         29.85              \n",
       "2 Yearly              No            PayPal         56.95              \n",
       "3 Monthly             Yes           PayPal         53.85              \n",
       "4 Yearly              No            Bank           42.30              \n",
       "5 Monthly             Yes           Skrill         70.70              \n",
       "6 Monthly             Yes           Skrill         99.65              \n",
       "  total_charges_usd opt_out\n",
       "1   29.85           No     \n",
       "2 1889.50           No     \n",
       "3  108.15           Yes    \n",
       "4 1840.75           No     \n",
       "5  151.65           Yes    \n",
       "6  820.50           Yes    "
      ]
     },
     "metadata": {},
     "output_type": "display_data"
    }
   ],
   "source": [
    "head(subscriptions)"
   ]
  },
  {
   "cell_type": "code",
   "execution_count": 15,
   "metadata": {},
   "outputs": [
    {
     "name": "stdout",
     "output_type": "stream",
     "text": [
      "-- Data Summary ------------------------\n",
      "                           Values       \n",
      "Name                       subscriptions\n",
      "Number of rows             7043         \n",
      "Number of columns          21           \n",
      "_______________________                 \n",
      "Column type frequency:                  \n",
      "  character                17           \n",
      "  numeric                  4            \n",
      "________________________                \n",
      "Group variables            None         \n",
      "\n",
      "-- Variable type: character ----------------------------------------------------\n",
      "# A tibble: 17 x 8\n",
      "   skim_variable            n_missing complete_rate   min   max empty n_unique\n",
      " * <chr>                        <int>         <dbl> <int> <int> <int>    <int>\n",
      " 1 customer_id                      0             1     5    36     0     7039\n",
      " 2 gender                           0             1     4     6     0        2\n",
      " 3 guild_member                     0             1     2     3     0        2\n",
      " 4 referrals                        0             1     2     3     0        2\n",
      " 5 chat_activated                   0             1     2     3     0        2\n",
      " 6 custom_avatar                    0             1     2     8     0        3\n",
      " 7 subscription_type                0             1     3     8     0        3\n",
      " 8 X2FA                             0             1     0     3  1526        3\n",
      " 9 auto_save                        0             1     0     3  1526        3\n",
      "10 disconnection_protection         0             1     0     3  1526        3\n",
      "11 premium_support                  0             1     0     3  1526        3\n",
      "12 quick_charge                     0             1     0     3  1526        3\n",
      "13 extra_stamina                    0             1     0     3  1526        3\n",
      "14 subscription_type.1              0             1     6     9     0        3\n",
      "15 email_billing                    0             1     2     3     0        2\n",
      "16 payment_method                   0             1     4     6     0        4\n",
      "17 opt_out                          0             1     2     3     0        2\n",
      "   whitespace\n",
      " *      <int>\n",
      " 1          0\n",
      " 2          0\n",
      " 3          0\n",
      " 4          0\n",
      " 5          0\n",
      " 6          0\n",
      " 7          0\n",
      " 8          0\n",
      " 9          0\n",
      "10          0\n",
      "11          0\n",
      "12          0\n",
      "13          0\n",
      "14          0\n",
      "15          0\n",
      "16          0\n",
      "17          0\n",
      "\n",
      "-- Variable type: numeric ------------------------------------------------------\n",
      "# A tibble: 4 x 11\n",
      "  skim_variable       n_missing complete_rate     mean       sd    p0   p25\n",
      "* <chr>                   <int>         <dbl>    <dbl>    <dbl> <dbl> <dbl>\n",
      "1 vip_status                  0         1        0.162    0.369   0     0  \n",
      "2 tenure_months               0         1       32.4     24.6     0     9  \n",
      "3 monthly_charges_usd         0         1       64.8     30.1    18.2  35.5\n",
      "4 total_charges_usd          11         0.998 2283.    2267.     18.8 401. \n",
      "     p50    p75  p100 hist \n",
      "*  <dbl>  <dbl> <dbl> <chr>\n",
      "1    0      0      1  <U+2587><U+2581><U+2581><U+2581><U+2582>\n",
      "2   29     55     72  <U+2587><U+2583><U+2583><U+2583><U+2586>\n",
      "3   70.4   89.8  119. <U+2587><U+2585><U+2586><U+2587><U+2585>\n",
      "4 1397.  3795.  8685. <U+2587><U+2582><U+2582><U+2582><U+2581>\n"
     ]
    }
   ],
   "source": [
    "skim(subscriptions)"
   ]
  },
  {
   "cell_type": "markdown",
   "metadata": {},
   "source": [
    "There are only 11 NA values in `total_charges_usd`. <br>\n",
    "> As `customer_id` that comes to be primary key doesn't give any other additional information about the dataset, I prefer to omit it from now on.  "
   ]
  },
  {
   "cell_type": "code",
   "execution_count": 16,
   "metadata": {},
   "outputs": [],
   "source": [
    "#Deleting customer_ID\n",
    "subscriptions$customer_id =NULL\n",
    "#Replacing empty cells for \"Unknown\"\n",
    "subscriptions[subscriptions==\"\"|subscriptions==\" \"]=\"Unknown\""
   ]
  },
  {
   "cell_type": "markdown",
   "metadata": {},
   "source": [
    "#### Barplots on numeric columns"
   ]
  },
  {
   "cell_type": "code",
   "execution_count": 17,
   "metadata": {},
   "outputs": [
    {
     "data": {
      "image/png": "[encoded data removed]",
      "text/plain": [
       "Plot with title \"vip_status\""
      ]
     },
     "metadata": {},
     "output_type": "display_data"
    },
    {
     "data": {
      "image/png": "[encoded data removed]",
      "text/plain": [
       "Plot with title \"tenure_months\""
      ]
     },
     "metadata": {},
     "output_type": "display_data"
    },
    {
     "data": {
      "image/png": "[encoded data removed]",
      "text/plain": [
       "Plot with title \"monthly_charges_usd\""
      ]
     },
     "metadata": {},
     "output_type": "display_data"
    },
    {
     "data": {
      "image/png": "[encoded data removed]",
      "text/plain": [
       "Plot with title \"total_charges_usd\""
      ]
     },
     "metadata": {},
     "output_type": "display_data"
    }
   ],
   "source": [
    "subscriptions_num= subscriptions %>% dplyr::select(where(is.numeric))\n",
    "attributes = colnames(subscriptions_num)\n",
    "for(attr in attributes){plot= \"barplot(table(subscriptions_num${attr}),col=rainbow(25),main='{attr}',xlab = '')\"\n",
    "                        eval(parse(text=glue(plot)))}"
   ]
  },
  {
   "cell_type": "markdown",
   "metadata": {},
   "source": [
    "#### Barplot on character columns"
   ]
  },
  {
   "cell_type": "code",
   "execution_count": 18,
   "metadata": {},
   "outputs": [
    {
     "data": {
      "image/png": "[encoded data removed]",
      "text/plain": [
       "Plot with title \"gender\""
      ]
     },
     "metadata": {},
     "output_type": "display_data"
    },
    {
     "data": {
      "image/png": "[encoded data removed]",
      "text/plain": [
       "Plot with title \"guild_member\""
      ]
     },
     "metadata": {},
     "output_type": "display_data"
    },
    {
     "data": {
      "image/png": "[encoded data removed]",
      "text/plain": [
       "Plot with title \"referrals\""
      ]
     },
     "metadata": {},
     "output_type": "display_data"
    },
    {
     "data": {
      "image/png": "[encoded data removed]",
      "text/plain": [
       "Plot with title \"chat_activated\""
      ]
     },
     "metadata": {},
     "output_type": "display_data"
    },
    {
     "data": {
      "image/png": "[encoded data removed]",
      "text/plain": [
       "Plot with title \"custom_avatar\""
      ]
     },
     "metadata": {},
     "output_type": "display_data"
    },
    {
     "data": {
      "image/png": "[encoded data removed]",
      "text/plain": [
       "Plot with title \"subscription_type\""
      ]
     },
     "metadata": {},
     "output_type": "display_data"
    },
    {
     "data": {
      "image/png": "[encoded data removed]",
      "text/plain": [
       "Plot with title \"X2FA\""
      ]
     },
     "metadata": {},
     "output_type": "display_data"
    },
    {
     "data": {
      "image/png": "[encoded data removed]",
      "text/plain": [
       "Plot with title \"auto_save\""
      ]
     },
     "metadata": {},
     "output_type": "display_data"
    },
    {
     "data": {
      "image/png": "[encoded data removed]",
      "text/plain": [
       "Plot with title \"disconnection_protection\""
      ]
     },
     "metadata": {},
     "output_type": "display_data"
    },
    {
     "data": {
      "image/png": "[encoded data removed]",
      "text/plain": [
       "Plot with title \"premium_support\""
      ]
     },
     "metadata": {},
     "output_type": "display_data"
    },
    {
     "data": {
      "image/png": "[encoded data removed]",
      "text/plain": [
       "Plot with title \"quick_charge\""
      ]
     },
     "metadata": {},
     "output_type": "display_data"
    },
    {
     "data": {
      "image/png": "[encoded data removed]",
      "text/plain": [
       "Plot with title \"extra_stamina\""
      ]
     },
     "metadata": {},
     "output_type": "display_data"
    },
    {
     "data": {
      "image/png": "[encoded data removed]",
      "text/plain": [
       "Plot with title \"subscription_type.1\""
      ]
     },
     "metadata": {},
     "output_type": "display_data"
    },
    {
     "data": {
      "image/png": "[encoded data removed]",
      "text/plain": [
       "Plot with title \"email_billing\""
      ]
     },
     "metadata": {},
     "output_type": "display_data"
    },
    {
     "data": {
      "image/png": "[encoded data removed]",
      "text/plain": [
       "Plot with title \"payment_method\""
      ]
     },
     "metadata": {},
     "output_type": "display_data"
    },
    {
     "data": {
      "image/png": "[encoded data removed]",
      "text/plain": [
       "Plot with title \"opt_out\""
      ]
     },
     "metadata": {},
     "output_type": "display_data"
    }
   ],
   "source": [
    "subscriptions_char= subscriptions %>% dplyr::select(where(is.character))\n",
    "attributes = colnames(subscriptions_char)\n",
    "for(attr in attributes){plot=\"barplot(table(subscriptions_char${attr}),col=rainbow(8),main='{attr}',xlab = '', \n",
    "                              horiz=T,las=1,cex.names=0.77,cex.axis=0.85)\"\n",
    "                        eval(parse(text=glue(plot)))}"
   ]
  },
  {
   "cell_type": "markdown",
   "metadata": {},
   "source": [
    "In order to have an idea at what level of relation the attributes have, I proceed to do a correlation test.To do that, I omit the following columns:\n",
    "- `X2FA`\n",
    "- `auto_save`\n",
    "- `disconnection_protection` \n",
    "- `premium_support` \n",
    "- `quick_charge`  \n",
    "- `extra_stamina` \n",
    "\n",
    "<br>\n",
    "Because in all of them missing values are contained.  A post analysis should be how to fill them. "
   ]
  },
  {
   "cell_type": "code",
   "execution_count": 19,
   "metadata": {},
   "outputs": [
    {
     "data": {
      "image/png": "[encoded data removed]",
      "text/plain": [
       "Plot with title \"\""
      ]
     },
     "metadata": {},
     "output_type": "display_data"
    }
   ],
   "source": [
    "cols = c(\"gender\",\"custom_avatar\",\"chat_activated\",\"subscription_type\",\n",
    "         \"monthly_charges_usd\",\"vip_status\",\"payment_method\",\"opt_out\")\n",
    "subscriptions_analysis = subscriptions  %>% dplyr::select(all_of(cols))\n",
    "subscriptions_correlacion = sapply(subscriptions_analysis  %>% dplyr::select(where(is.character)),unclass)\n",
    "subscriptions_correlacion = cbind(subscriptions_correlacion,subscriptions_analysis[,c(\"vip_status\",\"monthly_charges_usd\")])\n",
    "subscriptions_correlacion = subscriptions_correlacion %>% mutate_if(is.factor, as.numeric)\n",
    "correlacion=cor(subscriptions_correlacion)\n",
    "corrplot(correlacion, type=\"upper\", order=\"hclust\", col=c(\"black\", \"white\"), bg=\"lightblue\")"
   ]
  },
  {
   "cell_type": "markdown",
   "metadata": {},
   "source": [
    "- `gender` is practically indepedent of the all of attributes.<br>\n",
    "\n",
    "In favor of the company's profit, I consider the most interesting viewing everything related to `monthly_charges_usd`.  \n",
    "Looking at the graph, that attribute has a close lineal dependency on `subscription_type` and `custom_avatar`.\n",
    "That's why I'm almost convinced that the best method to tackle fastly is tree's decision."
   ]
  },
  {
   "cell_type": "code",
   "execution_count": 20,
   "metadata": {},
   "outputs": [],
   "source": [
    "cols= cols[-which(cols==\"monthly_charges_usd\")]\n",
    "for(col in cols){line= \"subscriptions_analysis${col}=as.factor(subscriptions_analysis${col})\"\n",
    "                 eval(parse(text=glue(line)))}"
   ]
  },
  {
   "cell_type": "code",
   "execution_count": 21,
   "metadata": {},
   "outputs": [
    {
     "data": {
      "image/png": "[encoded data removed]",
      "text/plain": [
       "plot without title"
      ]
     },
     "metadata": {},
     "output_type": "display_data"
    }
   ],
   "source": [
    "# monthly_charges_usd\n",
    "tree <- ctree(monthly_charges_usd ~.,data= subscriptions_analysis, maxdepth = 2)\n",
    "plot(tree, main= \"monthly_charges_usd's tree\", gp = gpar(fontsize = 9.5))"
   ]
  },
  {
   "cell_type": "markdown",
   "metadata": {},
   "source": [
    "Indeed the objective attribute depends mainly on those attributes already mencioned and spotted on the correlation graph.<br>\n",
    "As a result, I set a hierarchy among the clientes in function of the service charged a month as follows:\n",
    "\n",
    "- **Top clients**: Those who have as `subscription_type` to *Pro* and `custom_avatar` equals *Multiple*,whose median approachs 100 dollars. \n",
    "- **2 top clients**: Those who have as `subscription_type` to *Pro* and `custom_avatar` equals *Simple*, whose median is over 80 dollars.\n",
    "\n",
    "- **3 top clients**: those who have as `subscription_type` to *Advanced*, whose median approachs 60 dollars.\n",
    "- **Bottom clients**: those who have as `subscription_type` to *Basic*, whose median is over 20 dollars.\n"
   ]
  },
  {
   "cell_type": "code",
   "execution_count": 22,
   "metadata": {},
   "outputs": [
    {
     "data": {
      "image/png": "[encoded data removed]",
      "text/plain": [
       "plot without title"
      ]
     },
     "metadata": {},
     "output_type": "display_data"
    }
   ],
   "source": [
    "options(repr.plot.width=6,repr.plot.height=3.7)\n",
    "x <-  c(2421, 1526, 1938,1158)\n",
    "labels <-  c(\"3 top\",\"Bottom\",\"Top\",\"2 top\")\n",
    "df = data.frame(\"Clients\" = labels, \"nº\" = x)\n",
    "# Create a basic bar\n",
    "pie = ggplot(df, aes(x=\"\", y=x, fill=Clients)) + geom_bar(stat=\"identity\", width=1)\n",
    "# Convert to pie (polar coordinates) and add labels\n",
    "pie = pie + coord_polar(\"y\", start=0) + geom_text(aes(label=paste(round(nº*100/sum(nº)),\"%\")),\n",
    "                                                  position=position_stack(vjust=0.5))\n",
    "# Add color scale (hex colors)\n",
    "pie = pie + scale_fill_manual(values=c(\"palegreen\", \"lightblue\", \"peru\", \"skyblue4\")) \n",
    "# Remove labels and add title\n",
    "pie = pie + labs(x = NULL, y = NULL, fill = NULL, title = \"Clients by the service charged a month\")\n",
    "# Tidy up the theme\n",
    "pie = pie + theme_classic() + theme(axis.line = element_blank(),axis.text = element_blank(),\n",
    "            axis.ticks = element_blank(),plot.title = element_text(hjust = 0.5, color = \"indianred4\"))\n",
    "pie"
   ]
  },
  {
   "cell_type": "markdown",
   "metadata": {},
   "source": [
    "The most numerous clients are 3 top's and the less ones are 2 top's"
   ]
  },
  {
   "cell_type": "markdown",
   "metadata": {},
   "source": [
    "## Solution 3"
   ]
  },
  {
   "cell_type": "markdown",
   "metadata": {},
   "source": [
    "The queries are done in **mysql**\n",
    "- Assuming the 3 files are contained in an unique database. \n",
    "\n",
    "\n",
    "#### Number of unique users\n",
    "I assume that in users file, every *id* is unique\n",
    "```mysql\n",
    "SELECT country, count(id) AS total_ids FROM users GROUP BY country;  \n",
    "  ```"
   ]
  },
  {
   "cell_type": "markdown",
   "metadata": {},
   "source": [
    "#### Number of paying users among users registered this month\n",
    "\n",
    "````mysql\n",
    "SELECT country,MONTH(DATE(users.datetime))AS current_month,COUNT(DISTINCT(payments.user_id)) AS total_id FROM \n",
    "sessions INNER JOIN users ON users.id=payments.id GROUP BY country HAVING current_month = MONTH(DATE(NOW()));  \n",
    "````"
   ]
  },
  {
   "cell_type": "markdown",
   "metadata": {},
   "source": [
    "#### Average daily active users per month\n",
    "````mysql\n",
    "\n",
    "SELECT country, AVG(totaldaily_users) AS avgdaily_user, month_year FROM (SELECT country, COUNT(DISTINCT(user_id))) \n",
    "AS totaldaily_users,DAY(DATE(sessions.datetime)) AS day, CONCAT_WS('_', MONTH(DATE(sessions.datetime)), \n",
    "YEAR(DATE (sessions.datetime))) AS month_year FROM sessions INNER JOIN users ON users.id = payments.id GROUP BY \n",
    "country, day, month_year) GROUP BY country,month_year;\n",
    "````"
   ]
  },
  {
   "cell_type": "markdown",
   "metadata": {},
   "source": [
    "#### Percentage of users who made their first payment in 3 days after installation\n",
    "````mysql\n",
    "\n",
    "SELECT country, COUNT(DISTINCT(payments.id))*100/ COUNT(users.id) AS percentage_3days FROM payments INNER JOIN users ON users.id=payments.id GROUP BY country HAVING DATEDIFF(DAY(DATE(payments.datetime)),DAY(DATE(users.datetime)))<=3; \n",
    "````"
   ]
  },
  {
   "cell_type": "markdown",
   "metadata": {},
   "source": [
    "#### Percentage of users who made their first payment in 3 days after installation and had at least 2 battles in 7 days after installation\n",
    "````MYSQL\n",
    "SELECT country, COUNT(DISTINCT(payments.user_id))*100/ COUNT(users.id) AS percentage_users FROM payments INNER JOIN \n",
    "users ON users.id=payments.id INNER JOIN sessions ON users.id=sessions.id GROUP BY country \n",
    "HAVING DATEDIFF(DAY(DATE(payments.datetime)),DAY(DATE(users.datetime)))<=3 AND \n",
    "SUM(IF(event=\"conquer_land\" OR event=\"fort_assault\",1,0))>=2 AND DATEDIFF(DAY(DATE(sessions.datetime)),\n",
    "DAY(DATE(users.datetime<)))<=7;          \n",
    "````"
   ]
  },
  {
   "cell_type": "markdown",
   "metadata": {},
   "source": [
    "#### Average lag (in days) between purchases per user\n",
    "````mysql\n",
    "SELECT country, user_id, AVG(DATEDIFF(DAY(DATE(payments.datetime)), LAG(DAY(DATE(payments.datetime)), 1, NULL)OVER(ORDER BY DAY(DATE(payments.datetime)) ASC))), FROM payments INNER JOIN users ON users.id=payments.id GROUP BY country,user_id;  \n",
    "````"
   ]
  }
 ],
 "metadata": {
  "kernelspec": {
   "display_name": "R",
   "language": "R",
   "name": "ir"
  },
  "language_info": {
   "codemirror_mode": "r",
   "file_extension": ".r",
   "mimetype": "text/x-r-source",
   "name": "R",
   "pygments_lexer": "r",
   "version": "3.6.1"
  },
  "toc": {
   "base_numbering": 1,
   "nav_menu": {},
   "number_sections": true,
   "sideBar": true,
   "skip_h1_title": true,
   "title_cell": "Table of Contents",
   "title_sidebar": "Contents",
   "toc_cell": true,
   "toc_position": {},
   "toc_section_display": true,
   "toc_window_display": false
  }
 },
 "nbformat": 4,
 "nbformat_minor": 4
}

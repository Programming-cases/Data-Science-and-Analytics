{
 "cells": [
  {
   "cell_type": "markdown",
   "metadata": {},
   "source": [
    "# Damavis Data Scientist Challenge \n",
    "<br>\n",
    "\n",
    "#### Consider a box with three balls, each with a different value: ball A is worth 2 points, ball B is worth 3 points and ball C is worth 4 points. Write a function that calculates the number of different ways of reaching a total sum of N points by extracting from the box one ball at a time, taking into account the order in which the balls are drawn. For example, for N=6 you have 4 different possibilities:\n",
    "\n",
    "- Taking ball B twice in a row → 3 + 3 = 6 points\n",
    "- Taking ball A three times in a row → 2 + 2 + 2 = 6 points\n",
    "- Taking ball A, then ball C → 2 + 4 = 6 points\n",
    "- Taking ball C, then ball A → 4 + 2 = 6 points\n",
    "\n",
    "#### Your function must receive the target number of points N as a parameter and return the number of different ways of getting to that number. Make the function as efficient as possible and discuss its computational complexity.\n",
    "\n",
    "**Solution**\n",
    "\n",
    "Mathematically, the object funcion follows the equation:\n",
    "       $$2X+3Y+4Z=N$$\n",
    "*Where: X, Y, Z belong to natural numbers + {Ø}*\n",
    "\n",
    "Geometrically, the function is viewed as a plane equation as follows in the image:\n",
    "\n",
    "![](https://www.superprof.es/diccionario/wp-content/uploads/2020/01/ecuaci%C3%B3n-del-plano-19.gif)\n",
    "\n",
    "The boundary limits come to be:\n",
    "\n",
    "*0 ≤ X ≤ a= {N/2}*\n",
    "\n",
    "*0 ≤ Y ≤ b= {N/3}*\n",
    "\n",
    "*0 ≤ Z ≤ c= {N/4}*\n",
    "\n",
    "The method to tackle is use a series of loops from `x = 0, 1, 2, .. the whole number of (N/2)`, where in every x, y takes the following values `y=0,1,2 .. the whole number of (N/3)`. Once having x and y fit, the values are replaced in the formula: \n",
    "\n",
    "$$zz=\\frac{N - (2x+3y)}{4}$$ \n",
    "\n",
    "If `zz` is inside `Z= {0,1,.. the whole number of (N/4)}`,therefore `zz` comes to be z and the number of ways comes to be the following formula: \n",
    "\n",
    "$$n(x,y,z)=\\frac {(x+y+z)!}{x!\\times y! \\times z!}$$  \n",
    "If not, so $n = 0$.\n",
    "\n",
    "Finally, the total number of ways is the sum of every n."
   ]
  },
  {
   "cell_type": "code",
   "execution_count": 1,
   "metadata": {},
   "outputs": [],
   "source": [
    "from math import factorial"
   ]
  },
  {
   "cell_type": "code",
   "execution_count": 2,
   "metadata": {},
   "outputs": [],
   "source": [
    "def number_ways(N):\n",
    "    X= range(N//2+1)\n",
    "    Y= range(N//3+1)\n",
    "    Z= range(N//4+1)\n",
    "    n=0\n",
    "    for x in X:\n",
    "        for y in Y:\n",
    "            zz= (N -(2*x + 3*y))/4\n",
    "            if zz in Z: \n",
    "                z=zz\n",
    "                total = x+y+z\n",
    "                n=n+ factorial(total)/(factorial(x)*factorial(y)*factorial(z))\n",
    "    return n"
   ]
  },
  {
   "cell_type": "code",
   "execution_count": 3,
   "metadata": {},
   "outputs": [
    {
     "data": {
      "text/plain": [
       "4.0"
      ]
     },
     "execution_count": 3,
     "metadata": {},
     "output_type": "execute_result"
    }
   ],
   "source": [
    "       number_ways(6)   "
   ]
  }
 ],
 "metadata": {
  "kernelspec": {
   "display_name": "Python 3",
   "language": "python",
   "name": "python3"
  },
  "language_info": {
   "codemirror_mode": {
    "name": "ipython",
    "version": 3
   },
   "file_extension": ".py",
   "mimetype": "text/x-python",
   "name": "python",
   "nbconvert_exporter": "python",
   "pygments_lexer": "ipython3",
   "version": "3.8.3"
  }
 },
 "nbformat": 4,
 "nbformat_minor": 4
}

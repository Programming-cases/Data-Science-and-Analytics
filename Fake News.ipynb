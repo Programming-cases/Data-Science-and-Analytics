{
 "cells": [
  {
   "cell_type": "markdown",
   "metadata": {},
   "source": [
    "# Looking into fake news \n",
    " \n",
    "Messages about fake news or deep fake might be related to a large amount of words scattered on social media as for example:\n"
   ]
  },
  {
   "cell_type": "markdown",
   "metadata": {},
   "source": [
    ">*\"false, feigned, fictitious, gossip, tattle, coloquial, junk, bogues, phony, concocted, invented, make, sham, soft, counterfeit,fabricated, forget, fraudulent, mock, simulated,artificial, blamey, authentic, genuine, real, sincere, true, original,truthful\"*"
   ]
  },
  {
   "cell_type": "markdown",
   "metadata": {},
   "source": [
    "*So our goal is to find out whether there is a high incidence of these words in the granted data set.*<br>\n",
    "\n",
    "**Anexo:** \n",
    "A litle sub program that express the time to seconds without siginificant figures:"
   ]
  },
  {
   "cell_type": "code",
   "execution_count": 1,
   "metadata": {},
   "outputs": [],
   "source": [
    "import datetime as dt"
   ]
  },
  {
   "cell_type": "code",
   "execution_count": 2,
   "metadata": {},
   "outputs": [],
   "source": [
    "def round_seconds(timedelta):\n",
    "    seconds= int(timedelta.total_seconds())\n",
    "    rounded_timedelta= dt.timedelta(seconds=seconds)  \n",
    "    return(rounded_timedelta)    "
   ]
  },
  {
   "cell_type": "markdown",
   "metadata": {},
   "source": [
    "## Downloading dataset \n",
    "Extracting only the attribute **body** of every file: "
   ]
  },
  {
   "cell_type": "code",
   "execution_count": 3,
   "metadata": {},
   "outputs": [],
   "source": [
    "import io"
   ]
  },
  {
   "cell_type": "code",
   "execution_count": 4,
   "metadata": {},
   "outputs": [],
   "source": [
    "years=[2017,2018]\n",
    "messages=[[],[]]"
   ]
  },
  {
   "cell_type": "code",
   "execution_count": 5,
   "metadata": {},
   "outputs": [],
   "source": [
    "months2017=[]\n",
    "for month in range(1,13):\n",
    "    if month < 10:\n",
    "        months2017.append('0' + str(month))\n",
    "    else:\n",
    "        months2017.append(str(month))\n",
    "months2018=['0'+str(month) for month in range(1,9)]\n",
    "months=[months2017,months2018]"
   ]
  },
  {
   "cell_type": "markdown",
   "metadata": {},
   "source": [
    "At the same time, we would like to know step by step the download time: "
   ]
  },
  {
   "cell_type": "code",
   "execution_count": 6,
   "metadata": {},
   "outputs": [
    {
     "name": "stdout",
     "output_type": "stream",
     "text": [
      "DOWNLOADING TIME:\n",
      "RC_2017-01.csv: 0:00:08\n",
      "RC_2017-02.csv: 0:00:07\n",
      "RC_2017-03.csv: 0:00:00\n",
      "RC_2017-04.csv: 0:00:06\n",
      "RC_2017-05.csv: 0:00:07\n",
      "RC_2017-06.csv: 0:00:06\n",
      "RC_2017-07.csv: 0:00:07\n",
      "RC_2017-08.csv: 0:00:08\n",
      "RC_2017-09.csv: 0:00:08\n",
      "RC_2017-10.csv: 0:00:09\n",
      "RC_2017-11.csv: 0:00:12\n",
      "RC_2017-12.csv: 0:00:15\n",
      "RC_2018-01.csv: 0:00:12\n",
      "RC_2018-02.csv: 0:00:10\n",
      "RC_2018-03.csv: 0:00:11\n",
      "RC_2018-04.csv: 0:00:11\n",
      "RC_2018-05.csv: 0:00:10\n",
      "RC_2018-06.csv: 0:00:09\n",
      "RC_2018-07.csv: 0:00:10\n",
      "RC_2018-08.csv: 0:00:12\n",
      "\n",
      "Total time: 0:03:08\n",
      "Avg time for file: 0:00:09\n"
     ]
    }
   ],
   "source": [
    "print('DOWNLOADING TIME:')\n",
    "initial_time = dt.datetime.now()\n",
    "for indexy in range(len(years)):\n",
    "    for month in months[indexy]:\n",
    "        start_time= dt.datetime.now()\n",
    "        adress=\"RC_{0}-\".format(years[indexy]) + month + '.csv'\n",
    "        file= io.open(file= \"dataset\\\\\" + adress,encoding= 'utf-8')\n",
    "        lines= file.readlines()\n",
    "        file.close()\n",
    "        paragraph=[]\n",
    "        for index in range(1,len(lines)):\n",
    "            if '\"' in lines[index].split(',')[1]:\n",
    "                extract= lines[index].split('\"')[1]\n",
    "            else:\n",
    "                extract= lines[index].split(',')[1]\n",
    "            if '[removed]' != extract or '[deleted]' != extract:\n",
    "                paragraph.append(extract)\n",
    "        messages[indexy].append(paragraph) \n",
    "        end_time= dt.datetime.now()\n",
    "        print(adress +':',round_seconds(end_time - start_time)) \n",
    "final_time= dt.datetime.now()\n",
    "time= final_time-initial_time\n",
    "print('\\nTotal time:',round_seconds(time))\n",
    "print('Avg time for file:',round_seconds(time/20))"
   ]
  },
  {
   "cell_type": "markdown",
   "metadata": {},
   "source": [
    "Looking out if there are `delete` or `removed` texts by file:"
   ]
  },
  {
   "cell_type": "code",
   "execution_count": 7,
   "metadata": {},
   "outputs": [
    {
     "name": "stdout",
     "output_type": "stream",
     "text": [
      "RC_2017-01.csv: False\n",
      "RC_2017-02.csv: False\n",
      "RC_2017-03.csv: False\n",
      "RC_2017-04.csv: False\n",
      "RC_2017-05.csv: False\n",
      "RC_2017-06.csv: False\n",
      "RC_2017-07.csv: False\n",
      "RC_2017-08.csv: False\n",
      "RC_2017-09.csv: False\n",
      "RC_2017-10.csv: False\n",
      "RC_2017-11.csv: False\n",
      "RC_2017-12.csv: False\n",
      "RC_2018-01.csv: False\n",
      "RC_2018-02.csv: False\n",
      "RC_2018-03.csv: False\n",
      "RC_2018-04.csv: False\n",
      "RC_2018-05.csv: False\n",
      "RC_2018-06.csv: False\n",
      "RC_2018-07.csv: False\n",
      "RC_2018-08.csv: False\n"
     ]
    }
   ],
   "source": [
    "for indexy in range(len(years)):\n",
    "    for month in months[indexy]:\n",
    "        file_name=\"RC_{0}-\".format(years[indexy]) + month + '.csv:'\n",
    "        deleted = '[deleted]' in messages[indexy][int(month)-1]\n",
    "        removed = '[removed]' in messages[indexy][int(month)-1]\n",
    "        print(file_name, deleted or removed)          "
   ]
  },
  {
   "cell_type": "markdown",
   "metadata": {},
   "source": [
    "Last, changing the letters from uppercase into lowercase:"
   ]
  },
  {
   "cell_type": "code",
   "execution_count": 8,
   "metadata": {},
   "outputs": [
    {
     "name": "stdout",
     "output_type": "stream",
     "text": [
      "TIMING:\n",
      "2017-01: 0:00:00\n",
      "2017-02: 0:00:00\n",
      "2017-03: 0:00:00\n",
      "2017-04: 0:00:00\n",
      "2017-05: 0:00:00\n",
      "2017-06: 0:00:00\n",
      "2017-07: 0:00:00\n",
      "2017-08: 0:00:00\n",
      "2017-09: 0:00:00\n",
      "2017-10: 0:00:01\n",
      "2017-11: 0:00:01\n",
      "2017-12: 0:00:01\n",
      "2018-01: 0:00:01\n",
      "2018-02: 0:00:01\n",
      "2018-03: 0:00:01\n",
      "2018-04: 0:00:00\n",
      "2018-05: 0:00:01\n",
      "2018-06: 0:00:01\n",
      "2018-07: 0:00:01\n",
      "2018-08: 0:00:01\n",
      "Total time: 0:00:19\n",
      "Avg time for file: 0:00:00\n"
     ]
    }
   ],
   "source": [
    "print('TIMING:')\n",
    "start= dt.datetime.now()\n",
    "for indexy in range(len(years)):\n",
    "    for month in months[indexy]:\n",
    "        initial_time = dt.datetime.now()\n",
    "        month_texts= messages[indexy][int(month)-1]\n",
    "        for ind in range(len(month_texts)):\n",
    "            month_texts[ind]= month_texts[ind].lower()\n",
    "        end_time= dt.datetime.now()\n",
    "        time= end_time-initial_time\n",
    "        print('{0}-{1}:'.format(years[indexy],month),round_seconds(time))\n",
    "end= dt.datetime.now()\n",
    "time= end- start\n",
    "print('Total time:',round_seconds(time))\n",
    "print('Avg time for file:',round_seconds(time/20))"
   ]
  },
  {
   "cell_type": "markdown",
   "metadata": {},
   "source": [
    "## Rating words "
   ]
  },
  {
   "cell_type": "code",
   "execution_count": 9,
   "metadata": {},
   "outputs": [],
   "source": [
    "words=['false', 'feigned', 'fictitious', 'gossip', 'tattle', 'coloquial', \n",
    "       'junk','bogues', 'phony', 'concocted', 'invented', 'make', 'sham', \n",
    "       'soft','counterfeit','fabricated','forget', 'fraudulent', 'mock', \n",
    "       'simulated','artificial', 'blamey', 'authentic', 'genuine', 'real', \n",
    "       'sincere','true','original','truthful']"
   ]
  },
  {
   "cell_type": "code",
   "execution_count": 10,
   "metadata": {},
   "outputs": [
    {
     "name": "stdout",
     "output_type": "stream",
     "text": [
      "TIMING:\n",
      "2017-01: 0:00:18\n",
      "2017-02: 0:00:18\n",
      "2017-03: 0:00:00\n",
      "2017-04: 0:00:15\n",
      "2017-05: 0:00:16\n",
      "2017-06: 0:00:15\n",
      "2017-07: 0:00:17\n",
      "2017-08: 0:00:20\n",
      "2017-09: 0:00:21\n",
      "2017-10: 0:00:24\n",
      "2017-11: 0:00:28\n",
      "2017-12: 0:00:29\n",
      "2018-01: 0:00:28\n",
      "2018-02: 0:00:24\n",
      "2018-03: 0:00:24\n",
      "2018-04: 0:00:21\n",
      "2018-05: 0:00:23\n",
      "2018-06: 0:00:20\n",
      "2018-07: 0:00:22\n",
      "2018-08: 0:00:22\n",
      "Total time: 0:06:53\n",
      "Avg time for file: 0:00:20\n"
     ]
    }
   ],
   "source": [
    "rates=[]\n",
    "print('TIMING:')\n",
    "start= dt.datetime.now()\n",
    "for indexy in range(len(years)):\n",
    "    for month in months[indexy]:\n",
    "        initial_time = dt.datetime.now()\n",
    "        counting=0\n",
    "        monthly_texts= messages[indexy][int(month)-1]\n",
    "        for ind in range(len(monthly_texts)):\n",
    "            n=0\n",
    "            for word in words:\n",
    "                if word in monthly_texts[ind]:\n",
    "                    break\n",
    "                else:\n",
    "                    n +=1\n",
    "            if n != len(words):\n",
    "                counting += 1\n",
    "        rates.append(counting/len(monthly_texts))        \n",
    "        end_time= dt.datetime.now()\n",
    "        time= end_time-initial_time\n",
    "        print('{0}-{1}:'.format(years[indexy],month),round_seconds(time))\n",
    "end= dt.datetime.now()\n",
    "time= end- start\n",
    "print('Total time:',round_seconds(time))\n",
    "print('Avg time for file:',round_seconds(time/20))"
   ]
  },
  {
   "cell_type": "markdown",
   "metadata": {},
   "source": [
    "## Plotting the outputs\n",
    "Setting month labels from Jan 17 to Aug 18: "
   ]
  },
  {
   "cell_type": "code",
   "execution_count": 11,
   "metadata": {},
   "outputs": [],
   "source": [
    "month_date=[]\n",
    "for indexy in range(len(years)):\n",
    "    for month in months[indexy]:\n",
    "        date= dt.datetime(years[indexy],int(month),1)\n",
    "        label= date.strftime('%b %y')\n",
    "        month_date.append(label)"
   ]
  },
  {
   "cell_type": "markdown",
   "metadata": {},
   "source": [
    "Plotting:"
   ]
  },
  {
   "cell_type": "code",
   "execution_count": 12,
   "metadata": {},
   "outputs": [],
   "source": [
    "import matplotlib.pyplot as plt"
   ]
  },
  {
   "cell_type": "code",
   "execution_count": 14,
   "metadata": {},
   "outputs": [
    {
     "data": {
      "image/png": "[encoded data removed]",
      "text/plain": [
       "<Figure size 1008x504 with 1 Axes>"
      ]
     },
     "metadata": {},
     "output_type": "display_data"
    }
   ],
   "source": [
    "plt.style.use('fivethirtyeight')\n",
    "plt.figure(figsize=(14,7))\n",
    "plt.xticks(range(len(month_date)),month_date,rotation=40)\n",
    "plt.axhline(y= sum(rates)/len(rates),xmin=0,xmax=20,color='purple',ls='dotted',alpha=0.4)\n",
    "plt.plot(range(20),rates)\n",
    "plt.title('Monthly words rate',color= 'red', fontweight= 15)\n",
    "plt.show()"
   ]
  },
  {
   "cell_type": "markdown",
   "metadata": {},
   "source": [
    "- Practically one out of every ten messages are involved with the brought up words\n",
    "- February seems to be the month with the lowest rate of every year and the annual words rates look being higher and higher  "
   ]
  }
 ],
 "metadata": {
  "kernelspec": {
   "display_name": "Python 3",
   "language": "python",
   "name": "python3"
  },
  "language_info": {
   "codemirror_mode": {
    "name": "ipython",
    "version": 3
   },
   "file_extension": ".py",
   "mimetype": "text/x-python",
   "name": "python",
   "nbconvert_exporter": "python",
   "pygments_lexer": "ipython3",
   "version": "3.7.0"
  }
 },
 "nbformat": 4,
 "nbformat_minor": 2
}

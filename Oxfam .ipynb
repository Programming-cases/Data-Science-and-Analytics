{
 "cells": [
  {
   "cell_type": "markdown",
   "metadata": {},
   "source": [
    "# Oxfam Intermon"
   ]
  },
  {
   "cell_type": "code",
   "execution_count": 1,
   "metadata": {},
   "outputs": [],
   "source": [
    "#Importando Numpy:\n",
    "import numpy as np\n",
    "#Importando Pandas:\n",
    "import pandas as pd\n",
    "#Importando para realizar gráficos:\n",
    "import matplotlib.pyplot as plt"
   ]
  },
  {
   "cell_type": "markdown",
   "metadata": {},
   "source": [
    "## Descargando el primer archivo: \n",
    "\n",
    "Para ahorrar tiempo, si existe columnas de fechas, es recomendable usar la opción **`parse_dates`** para definir rápidamente el datatime.  \n"
   ]
  },
  {
   "cell_type": "code",
   "execution_count": 2,
   "metadata": {},
   "outputs": [],
   "source": [
    "account= pd.read_csv('~/Documents/Analisis de Datos/Oxfam/account_id_data.csv', \n",
    "                     parse_dates=['date_of_birth','original_recruitment_date'])"
   ]
  },
  {
   "cell_type": "code",
   "execution_count": 3,
   "metadata": {},
   "outputs": [
    {
     "data": {
      "text/plain": [
       "account_id                            int64\n",
       "date_of_birth                datetime64[ns]\n",
       "original_recruitment_date    datetime64[ns]\n",
       "recruitment_channel                  object\n",
       "gender                               object\n",
       "dtype: object"
      ]
     },
     "execution_count": 3,
     "metadata": {},
     "output_type": "execute_result"
    }
   ],
   "source": [
    "account.dtypes#Averiguando las primeras características de las variables:"
   ]
  },
  {
   "cell_type": "code",
   "execution_count": 4,
   "metadata": {},
   "outputs": [
    {
     "data": {
      "text/html": [
       "<div>\n",
       "<style scoped>\n",
       "    .dataframe tbody tr th:only-of-type {\n",
       "        vertical-align: middle;\n",
       "    }\n",
       "\n",
       "    .dataframe tbody tr th {\n",
       "        vertical-align: top;\n",
       "    }\n",
       "\n",
       "    .dataframe thead th {\n",
       "        text-align: right;\n",
       "    }\n",
       "</style>\n",
       "<table border=\"1\" class=\"dataframe\">\n",
       "  <thead>\n",
       "    <tr style=\"text-align: right;\">\n",
       "      <th></th>\n",
       "      <th>account_id</th>\n",
       "      <th>date_of_birth</th>\n",
       "      <th>original_recruitment_date</th>\n",
       "      <th>recruitment_channel</th>\n",
       "      <th>gender</th>\n",
       "    </tr>\n",
       "  </thead>\n",
       "  <tbody>\n",
       "    <tr>\n",
       "      <th>0</th>\n",
       "      <td>3000336</td>\n",
       "      <td>1955-07-08</td>\n",
       "      <td>2006-05-12</td>\n",
       "      <td>apartado_correos</td>\n",
       "      <td>mujer</td>\n",
       "    </tr>\n",
       "    <tr>\n",
       "      <th>1</th>\n",
       "      <td>3000549</td>\n",
       "      <td>1967-02-11</td>\n",
       "      <td>1999-05-20</td>\n",
       "      <td>apartado_correos</td>\n",
       "      <td>hombre</td>\n",
       "    </tr>\n",
       "    <tr>\n",
       "      <th>2</th>\n",
       "      <td>3000610</td>\n",
       "      <td>1975-06-08</td>\n",
       "      <td>2007-04-13</td>\n",
       "      <td>web</td>\n",
       "      <td>mujer</td>\n",
       "    </tr>\n",
       "    <tr>\n",
       "      <th>3</th>\n",
       "      <td>3003613</td>\n",
       "      <td>1966-03-05</td>\n",
       "      <td>1984-01-01</td>\n",
       "      <td>apartado_correos</td>\n",
       "      <td>mujer</td>\n",
       "    </tr>\n",
       "    <tr>\n",
       "      <th>4</th>\n",
       "      <td>3004202</td>\n",
       "      <td>1978-03-01</td>\n",
       "      <td>1999-05-20</td>\n",
       "      <td>web</td>\n",
       "      <td>hombre</td>\n",
       "    </tr>\n",
       "  </tbody>\n",
       "</table>\n",
       "</div>"
      ],
      "text/plain": [
       "   account_id date_of_birth original_recruitment_date recruitment_channel  \\\n",
       "0     3000336    1955-07-08                2006-05-12    apartado_correos   \n",
       "1     3000549    1967-02-11                1999-05-20    apartado_correos   \n",
       "2     3000610    1975-06-08                2007-04-13                 web   \n",
       "3     3003613    1966-03-05                1984-01-01    apartado_correos   \n",
       "4     3004202    1978-03-01                1999-05-20                 web   \n",
       "\n",
       "   gender  \n",
       "0   mujer  \n",
       "1  hombre  \n",
       "2   mujer  \n",
       "3   mujer  \n",
       "4  hombre  "
      ]
     },
     "execution_count": 4,
     "metadata": {},
     "output_type": "execute_result"
    }
   ],
   "source": [
    "account.head()"
   ]
  },
  {
   "cell_type": "markdown",
   "metadata": {},
   "source": [
    "Quiero saber si existen valores nulos:"
   ]
  },
  {
   "cell_type": "code",
   "execution_count": 5,
   "metadata": {},
   "outputs": [
    {
     "data": {
      "text/plain": [
       "account_id                   False\n",
       "date_of_birth                 True\n",
       "original_recruitment_date     True\n",
       "recruitment_channel          False\n",
       "gender                       False\n",
       "dtype: bool"
      ]
     },
     "execution_count": 5,
     "metadata": {},
     "output_type": "execute_result"
    }
   ],
   "source": [
    "account.isnull().any()"
   ]
  },
  {
   "cell_type": "markdown",
   "metadata": {},
   "source": [
    "Solo existen valores nulos en las columnas: **`date_of_birth`** y **`original_recruitment_date`**"
   ]
  },
  {
   "cell_type": "markdown",
   "metadata": {},
   "source": [
    "## Descargando el segundo archivo: "
   ]
  },
  {
   "cell_type": "code",
   "execution_count": 6,
   "metadata": {},
   "outputs": [],
   "source": [
    "gifts= pd.read_csv('~/Documents/Analisis de Datos/Oxfam/gifts.csv',parse_dates=['payment_date'])"
   ]
  },
  {
   "cell_type": "code",
   "execution_count": 7,
   "metadata": {},
   "outputs": [
    {
     "data": {
      "text/plain": [
       "gift_id                    int64\n",
       "account_id                 int64\n",
       "payment_date      datetime64[ns]\n",
       "payment_amount           float64\n",
       "gift_type                 object\n",
       "frequency                 object\n",
       "dtype: object"
      ]
     },
     "execution_count": 7,
     "metadata": {},
     "output_type": "execute_result"
    }
   ],
   "source": [
    "gifts.dtypes"
   ]
  },
  {
   "cell_type": "code",
   "execution_count": 8,
   "metadata": {},
   "outputs": [
    {
     "data": {
      "text/html": [
       "<div>\n",
       "<style scoped>\n",
       "    .dataframe tbody tr th:only-of-type {\n",
       "        vertical-align: middle;\n",
       "    }\n",
       "\n",
       "    .dataframe tbody tr th {\n",
       "        vertical-align: top;\n",
       "    }\n",
       "\n",
       "    .dataframe thead th {\n",
       "        text-align: right;\n",
       "    }\n",
       "</style>\n",
       "<table border=\"1\" class=\"dataframe\">\n",
       "  <thead>\n",
       "    <tr style=\"text-align: right;\">\n",
       "      <th></th>\n",
       "      <th>gift_id</th>\n",
       "      <th>account_id</th>\n",
       "      <th>payment_date</th>\n",
       "      <th>payment_amount</th>\n",
       "      <th>gift_type</th>\n",
       "      <th>frequency</th>\n",
       "    </tr>\n",
       "  </thead>\n",
       "  <tbody>\n",
       "    <tr>\n",
       "      <th>0</th>\n",
       "      <td>27132848</td>\n",
       "      <td>3481181</td>\n",
       "      <td>2016-01-01</td>\n",
       "      <td>6.0</td>\n",
       "      <td>Cuotas</td>\n",
       "      <td>Mensual</td>\n",
       "    </tr>\n",
       "    <tr>\n",
       "      <th>1</th>\n",
       "      <td>27133296</td>\n",
       "      <td>3356658</td>\n",
       "      <td>2016-01-01</td>\n",
       "      <td>12.0</td>\n",
       "      <td>Cuotas</td>\n",
       "      <td>Mensual</td>\n",
       "    </tr>\n",
       "    <tr>\n",
       "      <th>2</th>\n",
       "      <td>27133300</td>\n",
       "      <td>3749018</td>\n",
       "      <td>2016-01-01</td>\n",
       "      <td>12.0</td>\n",
       "      <td>Cuotas</td>\n",
       "      <td>Mensual</td>\n",
       "    </tr>\n",
       "    <tr>\n",
       "      <th>3</th>\n",
       "      <td>27133306</td>\n",
       "      <td>3594961</td>\n",
       "      <td>2016-01-01</td>\n",
       "      <td>50.0</td>\n",
       "      <td>Cuotas</td>\n",
       "      <td>Mensual</td>\n",
       "    </tr>\n",
       "    <tr>\n",
       "      <th>4</th>\n",
       "      <td>27133519</td>\n",
       "      <td>3545518</td>\n",
       "      <td>2016-01-01</td>\n",
       "      <td>20.0</td>\n",
       "      <td>Cuotas</td>\n",
       "      <td>Mensual</td>\n",
       "    </tr>\n",
       "  </tbody>\n",
       "</table>\n",
       "</div>"
      ],
      "text/plain": [
       "    gift_id  account_id payment_date  payment_amount gift_type frequency\n",
       "0  27132848     3481181   2016-01-01             6.0    Cuotas   Mensual\n",
       "1  27133296     3356658   2016-01-01            12.0    Cuotas   Mensual\n",
       "2  27133300     3749018   2016-01-01            12.0    Cuotas   Mensual\n",
       "3  27133306     3594961   2016-01-01            50.0    Cuotas   Mensual\n",
       "4  27133519     3545518   2016-01-01            20.0    Cuotas   Mensual"
      ]
     },
     "execution_count": 8,
     "metadata": {},
     "output_type": "execute_result"
    }
   ],
   "source": [
    "gifts.head()"
   ]
  },
  {
   "cell_type": "markdown",
   "metadata": {},
   "source": [
    "*Un apunte de cómo usar la opción format en datatime.*\n",
    "\n",
    "```Python\n",
    "gifts['payment_date']= pd.to_datetime(gifts['payment_date'],format='%Y-%m-%d') \n",
    "```"
   ]
  },
  {
   "cell_type": "markdown",
   "metadata": {
    "collapsed": true
   },
   "source": [
    "1. **¿En qué mes de 2016 se realizaron más donativos puntuales?¿Y cuál fue el importe medio de estos donativos en ese mes?**"
   ]
  },
  {
   "cell_type": "code",
   "execution_count": 9,
   "metadata": {},
   "outputs": [],
   "source": [
    "#Agregando la columna \"año\" a la tabla gifts:\n",
    "gifts[\"año\"] = gifts['payment_date'].dt.year#Recordar que se debe de añadir \"dt\" respecto a la unidad de tiempo\n",
    "#Agregando la columna \"mes\" a la tabla gifts:\n",
    "gifts[\"mes\"] = gifts['payment_date'].dt.month"
   ]
  },
  {
   "cell_type": "code",
   "execution_count": 10,
   "metadata": {},
   "outputs": [
    {
     "data": {
      "text/html": [
       "<div>\n",
       "<style scoped>\n",
       "    .dataframe tbody tr th:only-of-type {\n",
       "        vertical-align: middle;\n",
       "    }\n",
       "\n",
       "    .dataframe tbody tr th {\n",
       "        vertical-align: top;\n",
       "    }\n",
       "\n",
       "    .dataframe thead th {\n",
       "        text-align: right;\n",
       "    }\n",
       "</style>\n",
       "<table border=\"1\" class=\"dataframe\">\n",
       "  <thead>\n",
       "    <tr style=\"text-align: right;\">\n",
       "      <th></th>\n",
       "      <th>gift_id</th>\n",
       "      <th>account_id</th>\n",
       "      <th>payment_date</th>\n",
       "      <th>payment_amount</th>\n",
       "      <th>gift_type</th>\n",
       "      <th>frequency</th>\n",
       "      <th>año</th>\n",
       "      <th>mes</th>\n",
       "    </tr>\n",
       "  </thead>\n",
       "  <tbody>\n",
       "    <tr>\n",
       "      <th>0</th>\n",
       "      <td>27132848</td>\n",
       "      <td>3481181</td>\n",
       "      <td>2016-01-01</td>\n",
       "      <td>6.0</td>\n",
       "      <td>Cuotas</td>\n",
       "      <td>Mensual</td>\n",
       "      <td>2016</td>\n",
       "      <td>1</td>\n",
       "    </tr>\n",
       "    <tr>\n",
       "      <th>1</th>\n",
       "      <td>27133296</td>\n",
       "      <td>3356658</td>\n",
       "      <td>2016-01-01</td>\n",
       "      <td>12.0</td>\n",
       "      <td>Cuotas</td>\n",
       "      <td>Mensual</td>\n",
       "      <td>2016</td>\n",
       "      <td>1</td>\n",
       "    </tr>\n",
       "    <tr>\n",
       "      <th>2</th>\n",
       "      <td>27133300</td>\n",
       "      <td>3749018</td>\n",
       "      <td>2016-01-01</td>\n",
       "      <td>12.0</td>\n",
       "      <td>Cuotas</td>\n",
       "      <td>Mensual</td>\n",
       "      <td>2016</td>\n",
       "      <td>1</td>\n",
       "    </tr>\n",
       "    <tr>\n",
       "      <th>3</th>\n",
       "      <td>27133306</td>\n",
       "      <td>3594961</td>\n",
       "      <td>2016-01-01</td>\n",
       "      <td>50.0</td>\n",
       "      <td>Cuotas</td>\n",
       "      <td>Mensual</td>\n",
       "      <td>2016</td>\n",
       "      <td>1</td>\n",
       "    </tr>\n",
       "    <tr>\n",
       "      <th>4</th>\n",
       "      <td>27133519</td>\n",
       "      <td>3545518</td>\n",
       "      <td>2016-01-01</td>\n",
       "      <td>20.0</td>\n",
       "      <td>Cuotas</td>\n",
       "      <td>Mensual</td>\n",
       "      <td>2016</td>\n",
       "      <td>1</td>\n",
       "    </tr>\n",
       "  </tbody>\n",
       "</table>\n",
       "</div>"
      ],
      "text/plain": [
       "    gift_id  account_id payment_date  payment_amount gift_type frequency  \\\n",
       "0  27132848     3481181   2016-01-01             6.0    Cuotas   Mensual   \n",
       "1  27133296     3356658   2016-01-01            12.0    Cuotas   Mensual   \n",
       "2  27133300     3749018   2016-01-01            12.0    Cuotas   Mensual   \n",
       "3  27133306     3594961   2016-01-01            50.0    Cuotas   Mensual   \n",
       "4  27133519     3545518   2016-01-01            20.0    Cuotas   Mensual   \n",
       "\n",
       "    año  mes  \n",
       "0  2016    1  \n",
       "1  2016    1  \n",
       "2  2016    1  \n",
       "3  2016    1  \n",
       "4  2016    1  "
      ]
     },
     "execution_count": 10,
     "metadata": {},
     "output_type": "execute_result"
    }
   ],
   "source": [
    "#Cerciorando que la tabla esta configurada como esperamos:\n",
    "gifts.head()"
   ]
  },
  {
   "cell_type": "markdown",
   "metadata": {},
   "source": [
    "Ahora quiero saber si sólo regrista la columna `\"año\"` a 2016:"
   ]
  },
  {
   "cell_type": "code",
   "execution_count": 11,
   "metadata": {},
   "outputs": [
    {
     "data": {
      "text/plain": [
       "True"
      ]
     },
     "execution_count": 11,
     "metadata": {},
     "output_type": "execute_result"
    }
   ],
   "source": [
    "gifts['año'].all()"
   ]
  },
  {
   "cell_type": "markdown",
   "metadata": {},
   "source": [
    "Quiere decir que todos los datos registrados en la tabla **`gifts` corresponden al año 2016**"
   ]
  },
  {
   "cell_type": "markdown",
   "metadata": {},
   "source": [
    "Quiero saber si hay valores nulos:"
   ]
  },
  {
   "cell_type": "code",
   "execution_count": 12,
   "metadata": {},
   "outputs": [
    {
     "data": {
      "text/plain": [
       "gift_id           False\n",
       "account_id        False\n",
       "payment_date      False\n",
       "payment_amount    False\n",
       "gift_type         False\n",
       "frequency          True\n",
       "año               False\n",
       "mes               False\n",
       "dtype: bool"
      ]
     },
     "execution_count": 12,
     "metadata": {},
     "output_type": "execute_result"
    }
   ],
   "source": [
    "gifts.isnull().any()"
   ]
  },
  {
   "cell_type": "markdown",
   "metadata": {},
   "source": [
    "Sólo existen valores nulos en la columna `frequency`. Por tanto, ello no interfiere en la pregunta"
   ]
  },
  {
   "cell_type": "code",
   "execution_count": 13,
   "metadata": {},
   "outputs": [
    {
     "data": {
      "text/html": [
       "<div>\n",
       "<style scoped>\n",
       "    .dataframe tbody tr th:only-of-type {\n",
       "        vertical-align: middle;\n",
       "    }\n",
       "\n",
       "    .dataframe tbody tr th {\n",
       "        vertical-align: top;\n",
       "    }\n",
       "\n",
       "    .dataframe thead th {\n",
       "        text-align: right;\n",
       "    }\n",
       "</style>\n",
       "<table border=\"1\" class=\"dataframe\">\n",
       "  <thead>\n",
       "    <tr style=\"text-align: right;\">\n",
       "      <th></th>\n",
       "      <th>mes</th>\n",
       "      <th>account_id</th>\n",
       "      <th>payment_amount</th>\n",
       "    </tr>\n",
       "  </thead>\n",
       "  <tbody>\n",
       "    <tr>\n",
       "      <th>0</th>\n",
       "      <td>1</td>\n",
       "      <td>8188</td>\n",
       "      <td>18.983955</td>\n",
       "    </tr>\n",
       "    <tr>\n",
       "      <th>1</th>\n",
       "      <td>2</td>\n",
       "      <td>8126</td>\n",
       "      <td>18.102645</td>\n",
       "    </tr>\n",
       "    <tr>\n",
       "      <th>2</th>\n",
       "      <td>3</td>\n",
       "      <td>8276</td>\n",
       "      <td>17.325123</td>\n",
       "    </tr>\n",
       "    <tr>\n",
       "      <th>3</th>\n",
       "      <td>4</td>\n",
       "      <td>9114</td>\n",
       "      <td>16.184320</td>\n",
       "    </tr>\n",
       "    <tr>\n",
       "      <th>4</th>\n",
       "      <td>5</td>\n",
       "      <td>8691</td>\n",
       "      <td>17.510305</td>\n",
       "    </tr>\n",
       "    <tr>\n",
       "      <th>5</th>\n",
       "      <td>6</td>\n",
       "      <td>8643</td>\n",
       "      <td>18.456946</td>\n",
       "    </tr>\n",
       "    <tr>\n",
       "      <th>6</th>\n",
       "      <td>7</td>\n",
       "      <td>8696</td>\n",
       "      <td>17.650336</td>\n",
       "    </tr>\n",
       "    <tr>\n",
       "      <th>7</th>\n",
       "      <td>8</td>\n",
       "      <td>8543</td>\n",
       "      <td>17.207552</td>\n",
       "    </tr>\n",
       "    <tr>\n",
       "      <th>8</th>\n",
       "      <td>9</td>\n",
       "      <td>8568</td>\n",
       "      <td>17.504718</td>\n",
       "    </tr>\n",
       "    <tr>\n",
       "      <th>9</th>\n",
       "      <td>10</td>\n",
       "      <td>8611</td>\n",
       "      <td>17.731632</td>\n",
       "    </tr>\n",
       "    <tr>\n",
       "      <th>10</th>\n",
       "      <td>11</td>\n",
       "      <td>8496</td>\n",
       "      <td>17.605528</td>\n",
       "    </tr>\n",
       "    <tr>\n",
       "      <th>11</th>\n",
       "      <td>12</td>\n",
       "      <td>8599</td>\n",
       "      <td>20.848643</td>\n",
       "    </tr>\n",
       "  </tbody>\n",
       "</table>\n",
       "</div>"
      ],
      "text/plain": [
       "    mes  account_id  payment_amount\n",
       "0     1        8188       18.983955\n",
       "1     2        8126       18.102645\n",
       "2     3        8276       17.325123\n",
       "3     4        9114       16.184320\n",
       "4     5        8691       17.510305\n",
       "5     6        8643       18.456946\n",
       "6     7        8696       17.650336\n",
       "7     8        8543       17.207552\n",
       "8     9        8568       17.504718\n",
       "9    10        8611       17.731632\n",
       "10   11        8496       17.605528\n",
       "11   12        8599       20.848643"
      ]
     },
     "execution_count": 13,
     "metadata": {},
     "output_type": "execute_result"
    }
   ],
   "source": [
    "#Haciendo un group by:\n",
    "agrup_maxdon =gifts.groupby('mes',as_index=False).agg({'account_id':'count','payment_amount':'mean'})\n",
    "agrup_maxdon"
   ]
  },
  {
   "cell_type": "code",
   "execution_count": 14,
   "metadata": {},
   "outputs": [
    {
     "data": {
      "text/html": [
       "<div>\n",
       "<style scoped>\n",
       "    .dataframe tbody tr th:only-of-type {\n",
       "        vertical-align: middle;\n",
       "    }\n",
       "\n",
       "    .dataframe tbody tr th {\n",
       "        vertical-align: top;\n",
       "    }\n",
       "\n",
       "    .dataframe thead th {\n",
       "        text-align: right;\n",
       "    }\n",
       "</style>\n",
       "<table border=\"1\" class=\"dataframe\">\n",
       "  <thead>\n",
       "    <tr style=\"text-align: right;\">\n",
       "      <th></th>\n",
       "      <th>mes</th>\n",
       "      <th>account_id</th>\n",
       "      <th>payment_amount</th>\n",
       "    </tr>\n",
       "  </thead>\n",
       "  <tbody>\n",
       "    <tr>\n",
       "      <th>3</th>\n",
       "      <td>4</td>\n",
       "      <td>9114</td>\n",
       "      <td>16.18432</td>\n",
       "    </tr>\n",
       "  </tbody>\n",
       "</table>\n",
       "</div>"
      ],
      "text/plain": [
       "   mes  account_id  payment_amount\n",
       "3    4        9114        16.18432"
      ]
     },
     "execution_count": 14,
     "metadata": {},
     "output_type": "execute_result"
    }
   ],
   "source": [
    "#Seleccionado el mes con mayores donaciones y la donación media:\n",
    "agrup_maxdon[agrup_maxdon['account_id']== max(agrup_maxdon['account_id'])]"
   ]
  },
  {
   "cell_type": "markdown",
   "metadata": {},
   "source": [
    "2. **¿Cuál es la antigüedad de los colaboradores en el 3r cuartil (75%muestra)?<br>¿Es mayor para los hombres o para las mujeres?(No tener en cuenta *NA*, calcular antigüedad desde *“2016-12-31”*)**"
   ]
  },
  {
   "cell_type": "code",
   "execution_count": 15,
   "metadata": {},
   "outputs": [
    {
     "data": {
      "text/plain": [
       "0.75   1973-11-07 18:00:00\n",
       "Name: date_of_birth, dtype: datetime64[ns]"
      ]
     },
     "execution_count": 15,
     "metadata": {},
     "output_type": "execute_result"
    }
   ],
   "source": [
    "account['date_of_birth'].astype('int64').quantile([.75]).astype('datetime64[ns]')"
   ]
  },
  {
   "cell_type": "code",
   "execution_count": 16,
   "metadata": {},
   "outputs": [
    {
     "data": {
      "text/html": [
       "<div>\n",
       "<style scoped>\n",
       "    .dataframe tbody tr th:only-of-type {\n",
       "        vertical-align: middle;\n",
       "    }\n",
       "\n",
       "    .dataframe tbody tr th {\n",
       "        vertical-align: top;\n",
       "    }\n",
       "\n",
       "    .dataframe thead th {\n",
       "        text-align: right;\n",
       "    }\n",
       "</style>\n",
       "<table border=\"1\" class=\"dataframe\">\n",
       "  <thead>\n",
       "    <tr style=\"text-align: right;\">\n",
       "      <th></th>\n",
       "      <th>account_id</th>\n",
       "      <th>date_of_birth</th>\n",
       "      <th>original_recruitment_date</th>\n",
       "      <th>recruitment_channel</th>\n",
       "      <th>gender</th>\n",
       "    </tr>\n",
       "  </thead>\n",
       "  <tbody>\n",
       "    <tr>\n",
       "      <th>9659</th>\n",
       "      <td>4753624</td>\n",
       "      <td>1964-09-21</td>\n",
       "      <td>2016-11-10</td>\n",
       "      <td>cara_a_cara</td>\n",
       "      <td>indeterminado</td>\n",
       "    </tr>\n",
       "    <tr>\n",
       "      <th>9661</th>\n",
       "      <td>4756897</td>\n",
       "      <td>1954-04-24</td>\n",
       "      <td>2016-11-15</td>\n",
       "      <td>cara_a_cara</td>\n",
       "      <td>indeterminado</td>\n",
       "    </tr>\n",
       "    <tr>\n",
       "      <th>9662</th>\n",
       "      <td>4759670</td>\n",
       "      <td>1961-07-23</td>\n",
       "      <td>2016-11-17</td>\n",
       "      <td>cara_a_cara</td>\n",
       "      <td>indeterminado</td>\n",
       "    </tr>\n",
       "    <tr>\n",
       "      <th>9670</th>\n",
       "      <td>4780314</td>\n",
       "      <td>1960-07-09</td>\n",
       "      <td>2016-12-14</td>\n",
       "      <td>puerta_a_puerta</td>\n",
       "      <td>indeterminado</td>\n",
       "    </tr>\n",
       "    <tr>\n",
       "      <th>9671</th>\n",
       "      <td>4888369</td>\n",
       "      <td>1972-12-16</td>\n",
       "      <td>2016-06-06</td>\n",
       "      <td>otros</td>\n",
       "      <td>indeterminado</td>\n",
       "    </tr>\n",
       "  </tbody>\n",
       "</table>\n",
       "</div>"
      ],
      "text/plain": [
       "      account_id date_of_birth original_recruitment_date recruitment_channel  \\\n",
       "9659     4753624    1964-09-21                2016-11-10         cara_a_cara   \n",
       "9661     4756897    1954-04-24                2016-11-15         cara_a_cara   \n",
       "9662     4759670    1961-07-23                2016-11-17         cara_a_cara   \n",
       "9670     4780314    1960-07-09                2016-12-14     puerta_a_puerta   \n",
       "9671     4888369    1972-12-16                2016-06-06               otros   \n",
       "\n",
       "             gender  \n",
       "9659  indeterminado  \n",
       "9661  indeterminado  \n",
       "9662  indeterminado  \n",
       "9670  indeterminado  \n",
       "9671  indeterminado  "
      ]
     },
     "execution_count": 16,
     "metadata": {},
     "output_type": "execute_result"
    }
   ],
   "source": [
    "#Seleccionando los donantes mayores al cuartil 0.75:\n",
    "personas_mayores = account[account['date_of_birth']< pd.to_datetime('1973-11-07',format='%Y-%m-%d')]\n",
    "#Chequeándolos:\n",
    "personas_mayores.tail()"
   ]
  },
  {
   "cell_type": "code",
   "execution_count": 17,
   "metadata": {},
   "outputs": [
    {
     "data": {
      "text/html": [
       "<div>\n",
       "<style scoped>\n",
       "    .dataframe tbody tr th:only-of-type {\n",
       "        vertical-align: middle;\n",
       "    }\n",
       "\n",
       "    .dataframe tbody tr th {\n",
       "        vertical-align: top;\n",
       "    }\n",
       "\n",
       "    .dataframe thead th {\n",
       "        text-align: right;\n",
       "    }\n",
       "</style>\n",
       "<table border=\"1\" class=\"dataframe\">\n",
       "  <thead>\n",
       "    <tr style=\"text-align: right;\">\n",
       "      <th></th>\n",
       "      <th>gender</th>\n",
       "      <th>account_id</th>\n",
       "    </tr>\n",
       "  </thead>\n",
       "  <tbody>\n",
       "    <tr>\n",
       "      <th>0</th>\n",
       "      <td>hombre</td>\n",
       "      <td>2688</td>\n",
       "    </tr>\n",
       "    <tr>\n",
       "      <th>1</th>\n",
       "      <td>indeterminado</td>\n",
       "      <td>70</td>\n",
       "    </tr>\n",
       "    <tr>\n",
       "      <th>2</th>\n",
       "      <td>mujer</td>\n",
       "      <td>3221</td>\n",
       "    </tr>\n",
       "  </tbody>\n",
       "</table>\n",
       "</div>"
      ],
      "text/plain": [
       "          gender  account_id\n",
       "0         hombre        2688\n",
       "1  indeterminado          70\n",
       "2          mujer        3221"
      ]
     },
     "execution_count": 17,
     "metadata": {},
     "output_type": "execute_result"
    }
   ],
   "source": [
    "#Haciendo un groupby por generos:\n",
    "agrup_genero = personas_mayores.groupby('gender',as_index=False).agg({'account_id':'count'})\n",
    "agrup_genero"
   ]
  },
  {
   "cell_type": "code",
   "execution_count": 18,
   "metadata": {},
   "outputs": [
    {
     "data": {
      "text/html": [
       "<div>\n",
       "<style scoped>\n",
       "    .dataframe tbody tr th:only-of-type {\n",
       "        vertical-align: middle;\n",
       "    }\n",
       "\n",
       "    .dataframe tbody tr th {\n",
       "        vertical-align: top;\n",
       "    }\n",
       "\n",
       "    .dataframe thead th {\n",
       "        text-align: right;\n",
       "    }\n",
       "</style>\n",
       "<table border=\"1\" class=\"dataframe\">\n",
       "  <thead>\n",
       "    <tr style=\"text-align: right;\">\n",
       "      <th></th>\n",
       "      <th>gender</th>\n",
       "      <th>account_id</th>\n",
       "    </tr>\n",
       "  </thead>\n",
       "  <tbody>\n",
       "    <tr>\n",
       "      <th>2</th>\n",
       "      <td>mujer</td>\n",
       "      <td>3221</td>\n",
       "    </tr>\n",
       "  </tbody>\n",
       "</table>\n",
       "</div>"
      ],
      "text/plain": [
       "  gender  account_id\n",
       "2  mujer        3221"
      ]
     },
     "execution_count": 18,
     "metadata": {},
     "output_type": "execute_result"
    }
   ],
   "source": [
    "agrup_genero[agrup_genero['account_id']== max(agrup_genero['account_id'])]"
   ]
  },
  {
   "cell_type": "markdown",
   "metadata": {},
   "source": [
    "3. **Haz un gráfico que muestre el importe total de donativos “Cuotas” por mes y por “recruitment channel”<br>¿En qué mes los captados por teléfono tienen un importe de cuotas mayor?**"
   ]
  },
  {
   "cell_type": "code",
   "execution_count": 19,
   "metadata": {},
   "outputs": [],
   "source": [
    "#Seleccionando los tipos de regalos que son `Cuotas`:\n",
    "gifts_cuotas = gifts[gifts['gift_type'] == 'Cuotas']"
   ]
  },
  {
   "cell_type": "code",
   "execution_count": 20,
   "metadata": {},
   "outputs": [
    {
     "data": {
      "text/html": [
       "<div>\n",
       "<style scoped>\n",
       "    .dataframe tbody tr th:only-of-type {\n",
       "        vertical-align: middle;\n",
       "    }\n",
       "\n",
       "    .dataframe tbody tr th {\n",
       "        vertical-align: top;\n",
       "    }\n",
       "\n",
       "    .dataframe thead th {\n",
       "        text-align: right;\n",
       "    }\n",
       "</style>\n",
       "<table border=\"1\" class=\"dataframe\">\n",
       "  <thead>\n",
       "    <tr style=\"text-align: right;\">\n",
       "      <th></th>\n",
       "      <th>gift_id</th>\n",
       "      <th>account_id</th>\n",
       "      <th>payment_date</th>\n",
       "      <th>payment_amount</th>\n",
       "      <th>gift_type</th>\n",
       "      <th>frequency</th>\n",
       "      <th>año</th>\n",
       "      <th>mes</th>\n",
       "      <th>date_of_birth</th>\n",
       "      <th>original_recruitment_date</th>\n",
       "      <th>recruitment_channel</th>\n",
       "      <th>gender</th>\n",
       "    </tr>\n",
       "  </thead>\n",
       "  <tbody>\n",
       "    <tr>\n",
       "      <th>0</th>\n",
       "      <td>27132848</td>\n",
       "      <td>3481181</td>\n",
       "      <td>2016-01-01</td>\n",
       "      <td>6.0</td>\n",
       "      <td>Cuotas</td>\n",
       "      <td>Mensual</td>\n",
       "      <td>2016</td>\n",
       "      <td>1</td>\n",
       "      <td>NaT</td>\n",
       "      <td>2004-01-19</td>\n",
       "      <td>web</td>\n",
       "      <td>hombre</td>\n",
       "    </tr>\n",
       "    <tr>\n",
       "      <th>1</th>\n",
       "      <td>27264848</td>\n",
       "      <td>3481181</td>\n",
       "      <td>2016-02-01</td>\n",
       "      <td>6.0</td>\n",
       "      <td>Cuotas</td>\n",
       "      <td>Mensual</td>\n",
       "      <td>2016</td>\n",
       "      <td>2</td>\n",
       "      <td>NaT</td>\n",
       "      <td>2004-01-19</td>\n",
       "      <td>web</td>\n",
       "      <td>hombre</td>\n",
       "    </tr>\n",
       "    <tr>\n",
       "      <th>2</th>\n",
       "      <td>27401390</td>\n",
       "      <td>3481181</td>\n",
       "      <td>2016-03-01</td>\n",
       "      <td>6.0</td>\n",
       "      <td>Cuotas</td>\n",
       "      <td>Mensual</td>\n",
       "      <td>2016</td>\n",
       "      <td>3</td>\n",
       "      <td>NaT</td>\n",
       "      <td>2004-01-19</td>\n",
       "      <td>web</td>\n",
       "      <td>hombre</td>\n",
       "    </tr>\n",
       "    <tr>\n",
       "      <th>3</th>\n",
       "      <td>27543013</td>\n",
       "      <td>3481181</td>\n",
       "      <td>2016-04-01</td>\n",
       "      <td>6.0</td>\n",
       "      <td>Cuotas</td>\n",
       "      <td>Mensual</td>\n",
       "      <td>2016</td>\n",
       "      <td>4</td>\n",
       "      <td>NaT</td>\n",
       "      <td>2004-01-19</td>\n",
       "      <td>web</td>\n",
       "      <td>hombre</td>\n",
       "    </tr>\n",
       "    <tr>\n",
       "      <th>4</th>\n",
       "      <td>27683535</td>\n",
       "      <td>3481181</td>\n",
       "      <td>2016-05-01</td>\n",
       "      <td>6.0</td>\n",
       "      <td>Cuotas</td>\n",
       "      <td>Mensual</td>\n",
       "      <td>2016</td>\n",
       "      <td>5</td>\n",
       "      <td>NaT</td>\n",
       "      <td>2004-01-19</td>\n",
       "      <td>web</td>\n",
       "      <td>hombre</td>\n",
       "    </tr>\n",
       "  </tbody>\n",
       "</table>\n",
       "</div>"
      ],
      "text/plain": [
       "    gift_id  account_id payment_date  payment_amount gift_type frequency  \\\n",
       "0  27132848     3481181   2016-01-01             6.0    Cuotas   Mensual   \n",
       "1  27264848     3481181   2016-02-01             6.0    Cuotas   Mensual   \n",
       "2  27401390     3481181   2016-03-01             6.0    Cuotas   Mensual   \n",
       "3  27543013     3481181   2016-04-01             6.0    Cuotas   Mensual   \n",
       "4  27683535     3481181   2016-05-01             6.0    Cuotas   Mensual   \n",
       "\n",
       "    año  mes date_of_birth original_recruitment_date recruitment_channel  \\\n",
       "0  2016    1           NaT                2004-01-19                 web   \n",
       "1  2016    2           NaT                2004-01-19                 web   \n",
       "2  2016    3           NaT                2004-01-19                 web   \n",
       "3  2016    4           NaT                2004-01-19                 web   \n",
       "4  2016    5           NaT                2004-01-19                 web   \n",
       "\n",
       "   gender  \n",
       "0  hombre  \n",
       "1  hombre  \n",
       "2  hombre  \n",
       "3  hombre  \n",
       "4  hombre  "
      ]
     },
     "execution_count": 20,
     "metadata": {},
     "output_type": "execute_result"
    }
   ],
   "source": [
    "#Haciendo un inner join:\n",
    "gifts_cuotas_union= gifts_cuotas.merge(account,how='inner',on= 'account_id')\n",
    "gifts_cuotas_union.head()"
   ]
  },
  {
   "cell_type": "code",
   "execution_count": 21,
   "metadata": {},
   "outputs": [
    {
     "data": {
      "text/html": [
       "<div>\n",
       "<style scoped>\n",
       "    .dataframe tbody tr th:only-of-type {\n",
       "        vertical-align: middle;\n",
       "    }\n",
       "\n",
       "    .dataframe tbody tr th {\n",
       "        vertical-align: top;\n",
       "    }\n",
       "\n",
       "    .dataframe thead tr th {\n",
       "        text-align: left;\n",
       "    }\n",
       "\n",
       "    .dataframe thead tr:last-of-type th {\n",
       "        text-align: right;\n",
       "    }\n",
       "</style>\n",
       "<table border=\"1\" class=\"dataframe\">\n",
       "  <thead>\n",
       "    <tr>\n",
       "      <th></th>\n",
       "      <th colspan=\"12\" halign=\"left\">payment_amount</th>\n",
       "    </tr>\n",
       "    <tr>\n",
       "      <th>mes</th>\n",
       "      <th>1</th>\n",
       "      <th>2</th>\n",
       "      <th>3</th>\n",
       "      <th>4</th>\n",
       "      <th>5</th>\n",
       "      <th>6</th>\n",
       "      <th>7</th>\n",
       "      <th>8</th>\n",
       "      <th>9</th>\n",
       "      <th>10</th>\n",
       "      <th>11</th>\n",
       "      <th>12</th>\n",
       "    </tr>\n",
       "    <tr>\n",
       "      <th>recruitment_channel</th>\n",
       "      <th></th>\n",
       "      <th></th>\n",
       "      <th></th>\n",
       "      <th></th>\n",
       "      <th></th>\n",
       "      <th></th>\n",
       "      <th></th>\n",
       "      <th></th>\n",
       "      <th></th>\n",
       "      <th></th>\n",
       "      <th></th>\n",
       "      <th></th>\n",
       "    </tr>\n",
       "  </thead>\n",
       "  <tbody>\n",
       "    <tr>\n",
       "      <th>apartado_correos</th>\n",
       "      <td>59585.69</td>\n",
       "      <td>55749.27</td>\n",
       "      <td>56496.36</td>\n",
       "      <td>57000.14</td>\n",
       "      <td>56089.89</td>\n",
       "      <td>57722.80</td>\n",
       "      <td>59284.05</td>\n",
       "      <td>55864.05</td>\n",
       "      <td>56483.62</td>\n",
       "      <td>57526.39</td>\n",
       "      <td>56727.80</td>\n",
       "      <td>59554.73</td>\n",
       "    </tr>\n",
       "    <tr>\n",
       "      <th>cara_a_cara</th>\n",
       "      <td>18312.61</td>\n",
       "      <td>18639.43</td>\n",
       "      <td>18885.78</td>\n",
       "      <td>19287.18</td>\n",
       "      <td>19620.56</td>\n",
       "      <td>19525.60</td>\n",
       "      <td>20374.18</td>\n",
       "      <td>20251.34</td>\n",
       "      <td>20056.34</td>\n",
       "      <td>20211.55</td>\n",
       "      <td>20097.35</td>\n",
       "      <td>19500.71</td>\n",
       "    </tr>\n",
       "    <tr>\n",
       "      <th>llamada</th>\n",
       "      <td>20432.24</td>\n",
       "      <td>19368.24</td>\n",
       "      <td>20508.99</td>\n",
       "      <td>21614.24</td>\n",
       "      <td>20915.06</td>\n",
       "      <td>22347.53</td>\n",
       "      <td>23200.80</td>\n",
       "      <td>21750.94</td>\n",
       "      <td>22713.40</td>\n",
       "      <td>23522.91</td>\n",
       "      <td>22096.67</td>\n",
       "      <td>24365.47</td>\n",
       "    </tr>\n",
       "    <tr>\n",
       "      <th>otros</th>\n",
       "      <td>370.16</td>\n",
       "      <td>396.95</td>\n",
       "      <td>370.53</td>\n",
       "      <td>370.53</td>\n",
       "      <td>537.54</td>\n",
       "      <td>471.12</td>\n",
       "      <td>451.12</td>\n",
       "      <td>447.54</td>\n",
       "      <td>461.12</td>\n",
       "      <td>464.12</td>\n",
       "      <td>490.54</td>\n",
       "      <td>464.12</td>\n",
       "    </tr>\n",
       "    <tr>\n",
       "      <th>puerta_a_puerta</th>\n",
       "      <td>28593.02</td>\n",
       "      <td>28666.20</td>\n",
       "      <td>30156.20</td>\n",
       "      <td>30567.25</td>\n",
       "      <td>31089.27</td>\n",
       "      <td>30728.05</td>\n",
       "      <td>31371.27</td>\n",
       "      <td>30980.36</td>\n",
       "      <td>31027.61</td>\n",
       "      <td>31079.15</td>\n",
       "      <td>30757.49</td>\n",
       "      <td>30566.83</td>\n",
       "    </tr>\n",
       "  </tbody>\n",
       "</table>\n",
       "</div>"
      ],
      "text/plain": [
       "                    payment_amount                                          \\\n",
       "mes                             1         2         3         4         5    \n",
       "recruitment_channel                                                          \n",
       "apartado_correos          59585.69  55749.27  56496.36  57000.14  56089.89   \n",
       "cara_a_cara               18312.61  18639.43  18885.78  19287.18  19620.56   \n",
       "llamada                   20432.24  19368.24  20508.99  21614.24  20915.06   \n",
       "otros                       370.16    396.95    370.53    370.53    537.54   \n",
       "puerta_a_puerta           28593.02  28666.20  30156.20  30567.25  31089.27   \n",
       "\n",
       "                                                                       \\\n",
       "mes                        6         7         8         9         10   \n",
       "recruitment_channel                                                     \n",
       "apartado_correos     57722.80  59284.05  55864.05  56483.62  57526.39   \n",
       "cara_a_cara          19525.60  20374.18  20251.34  20056.34  20211.55   \n",
       "llamada              22347.53  23200.80  21750.94  22713.40  23522.91   \n",
       "otros                  471.12    451.12    447.54    461.12    464.12   \n",
       "puerta_a_puerta      30728.05  31371.27  30980.36  31027.61  31079.15   \n",
       "\n",
       "                                         \n",
       "mes                        11        12  \n",
       "recruitment_channel                      \n",
       "apartado_correos     56727.80  59554.73  \n",
       "cara_a_cara          20097.35  19500.71  \n",
       "llamada              22096.67  24365.47  \n",
       "otros                  490.54    464.12  \n",
       "puerta_a_puerta      30757.49  30566.83  "
      ]
     },
     "execution_count": 21,
     "metadata": {},
     "output_type": "execute_result"
    }
   ],
   "source": [
    "#Haciendo un grup_by por 'recruitment_channel' y 'mes':\n",
    "gifts_cuotas_union_groupby = gifts_cuotas_union.groupby(['recruitment_channel','mes']).agg({'payment_amount':'sum'}).unstack()\n",
    "gifts_cuotas_union_groupby.head()"
   ]
  },
  {
   "cell_type": "code",
   "execution_count": 22,
   "metadata": {},
   "outputs": [
    {
     "data": {
      "image/png": "[encoded data removed]",
      "text/plain": [
       "<Figure size 1152x648 with 1 Axes>"
      ]
     },
     "metadata": {
      "needs_background": "light"
     },
     "output_type": "display_data"
    }
   ],
   "source": [
    "gifts_cuotas_union_groupby.plot.barh(title = 'Aportaciones totales por mes',figsize=(16,9),legend= False)\n",
    "plt.ylabel('Monto por mes')\n",
    "plt.grid(True)\n",
    "plt.style.use('seaborn')\n",
    "plt.show()"
   ]
  },
  {
   "cell_type": "markdown",
   "metadata": {},
   "source": [
    "Se registra un mayor importe de donaciones por `llamada` en el mes de diciembre."
   ]
  },
  {
   "cell_type": "markdown",
   "metadata": {},
   "source": [
    "<style>\n",
    "body {\n",
    "text-align: justify}\n",
    "4.Si clasificamos la Antigüedad en 4 grupos: los que tienen una antigüedad menor a 1 año “<1”, los que tienen un antigüedad igual o mayor a 1 año y menor a 3, “1_a_3”, los que tienen una antigüedad igual o mayor a 3 e inferior a 5, “3_a_5” y los que tienen una antigüedad mayor o igual a 5, “>5”. (No tener en cuenta NA’s)<br>¿Puedes decir en cuál de estos grupos de antigüedad las mujeres tienen una media de cuota anualizada mayor? ¿Cuál es esa media? (cuota anualizada es la suma de todas las gift_type == “Cuotas” pagadas por cada colaborador durante el año)<br> ¿Dentro de este grupo “ganador”, para que canal de captación (“recruitment_channel”) la cuota anualizada es más alta?¿Cuál es el importe? </style>"
   ]
  },
  {
   "cell_type": "markdown",
   "metadata": {},
   "source": [
    "4. **Si clasificamos la Antigüedad en 4 grupos: los que tienen una antigüedad menor a 1 año *“<1”*, los que tienen un antigüedad igual o mayor a 1 año y menor a 3, *“1_a_3”*, los que tienen una antigüedad igual o mayor a 3 e inferior a 5, *“3_a_5”* y los que tienen una antigüedad mayor o igual a 5, *“>5”*. (No tener en cuenta NA’s):<br>¿Puedes decir en cuál de estos grupos de antigüedad las mujeres tienen una media de cuota anualizada mayor? <br>¿Cuál es esa media? (cuota anualizada es la suma de todas las `gift_type == “Cuotas”` pagadas por cada colaborador durante el año) <br>¿Dentro de este grupo “ganador”, para que canal de captación (“recruitment_channel”) la cuota anualizada es más alta?¿Cuál es el importe?**"
   ]
  },
  {
   "cell_type": "markdown",
   "metadata": {},
   "source": [
    "Cogiendo los datos donde `gift_type== Cuotas`:"
   ]
  },
  {
   "cell_type": "code",
   "execution_count": 23,
   "metadata": {},
   "outputs": [],
   "source": [
    "#Borrando la columna años que corresponden al año que aportaron la última vez:\n",
    "del gifts_cuotas_union['año']"
   ]
  },
  {
   "cell_type": "code",
   "execution_count": 24,
   "metadata": {},
   "outputs": [],
   "source": [
    "#Añadiendo la columna año, pero que corresponde al año de reclutamiento:\n",
    "gifts_cuotas_union['año']= gifts_cuotas_union['original_recruitment_date'].dt.year"
   ]
  },
  {
   "cell_type": "code",
   "execution_count": 25,
   "metadata": {},
   "outputs": [
    {
     "data": {
      "text/plain": [
       "gift_id                               int64\n",
       "account_id                            int64\n",
       "payment_date                 datetime64[ns]\n",
       "payment_amount                      float64\n",
       "gift_type                            object\n",
       "frequency                            object\n",
       "mes                                   int64\n",
       "date_of_birth                datetime64[ns]\n",
       "original_recruitment_date    datetime64[ns]\n",
       "recruitment_channel                  object\n",
       "gender                               object\n",
       "año                                 float64\n",
       "dtype: object"
      ]
     },
     "execution_count": 25,
     "metadata": {},
     "output_type": "execute_result"
    }
   ],
   "source": [
    "gifts_cuotas_union.dtypes"
   ]
  },
  {
   "cell_type": "markdown",
   "metadata": {},
   "source": [
    "Haciendo cuatro filtros de los que se inscribieron:\n",
    "1. 2016\n",
    "2. [2013, 2016]\n",
    "3. [2011,2013]\n",
    "4. Antes del 2011"
   ]
  },
  {
   "cell_type": "code",
   "execution_count": 26,
   "metadata": {},
   "outputs": [],
   "source": [
    "#1.Los incritos durante el 2016:\n",
    "inscritos_2016= gifts_cuotas_union[gifts_cuotas_union['año']==2016]"
   ]
  },
  {
   "cell_type": "code",
   "execution_count": 27,
   "metadata": {},
   "outputs": [],
   "source": [
    "#2.Los inscritos entre 2013 hasta 2016:\n",
    "inscritos_1316= gifts_cuotas_union[gifts_cuotas_union['año'].isin([2013,2014,2015])]"
   ]
  },
  {
   "cell_type": "code",
   "execution_count": 28,
   "metadata": {},
   "outputs": [],
   "source": [
    "#3.Los inscritos entre 2011 y 2013:\n",
    "inscritos_1112= gifts_cuotas_union[gifts_cuotas_union['año'].isin([2011,2012])]"
   ]
  },
  {
   "cell_type": "code",
   "execution_count": 29,
   "metadata": {},
   "outputs": [],
   "source": [
    "#4.Los inscritos antes del 2011:\n",
    "inscritos_viejos= gifts_cuotas_union[gifts_cuotas_union['año']<2011]"
   ]
  },
  {
   "cell_type": "markdown",
   "metadata": {},
   "source": [
    "**Haciendo un filter del genero $mujer$** y luego cálcular la `suma total` de las aportantes por cada segmentación hecha:"
   ]
  },
  {
   "cell_type": "code",
   "execution_count": 30,
   "metadata": {},
   "outputs": [
    {
     "data": {
      "text/plain": [
       "payment_amount    103.927855\n",
       "dtype: float64"
      ]
     },
     "execution_count": 30,
     "metadata": {},
     "output_type": "execute_result"
    }
   ],
   "source": [
    "#1.De los inscritos durante el 2016:\n",
    "inscritos_2016[inscritos_2016['gender']== 'mujer'].groupby('account_id').agg({'payment_amount':'sum'}).mean()"
   ]
  },
  {
   "cell_type": "code",
   "execution_count": 31,
   "metadata": {},
   "outputs": [
    {
     "data": {
      "text/plain": [
       "payment_amount    156.181767\n",
       "dtype: float64"
      ]
     },
     "execution_count": 31,
     "metadata": {},
     "output_type": "execute_result"
    }
   ],
   "source": [
    "#2. De los incritos entre 2013 a 2016:\n",
    "inscritos_1316[inscritos_1316['gender']== 'mujer'].groupby('account_id').agg({'payment_amount':'sum'}).mean()"
   ]
  },
  {
   "cell_type": "code",
   "execution_count": 32,
   "metadata": {},
   "outputs": [
    {
     "data": {
      "text/plain": [
       "payment_amount    156.393043\n",
       "dtype: float64"
      ]
     },
     "execution_count": 32,
     "metadata": {},
     "output_type": "execute_result"
    }
   ],
   "source": [
    "#3. De los inscritos entre 2011 hasta 2013:\n",
    "inscritos_1112[inscritos_1112['gender']== 'mujer'].groupby('account_id').agg({'payment_amount':'sum'}).mean()"
   ]
  },
  {
   "cell_type": "code",
   "execution_count": 33,
   "metadata": {},
   "outputs": [
    {
     "data": {
      "text/plain": [
       "payment_amount    180.75837\n",
       "dtype: float64"
      ]
     },
     "execution_count": 33,
     "metadata": {},
     "output_type": "execute_result"
    }
   ],
   "source": [
    "#4. De los inscritos antes del 2011:\n",
    "inscritos_viejos[inscritos_viejos['gender']== 'mujer'].groupby('account_id').agg({'payment_amount':'sum'}).mean()"
   ]
  },
  {
   "cell_type": "markdown",
   "metadata": {},
   "source": [
    "La mejor cuota viene a ser de los aportantes inscritas antes del 2011, cuyo cuota anual medio asciende a **180.76 euros**.<br> <br> <br>\n",
    "Haciendo un groupby por `recruitment_channel` y luego agrupo por aportante la cantidad total y solo obtengo la media"
   ]
  },
  {
   "cell_type": "code",
   "execution_count": 34,
   "metadata": {},
   "outputs": [
    {
     "data": {
      "text/html": [
       "<div>\n",
       "<style scoped>\n",
       "    .dataframe tbody tr th:only-of-type {\n",
       "        vertical-align: middle;\n",
       "    }\n",
       "\n",
       "    .dataframe tbody tr th {\n",
       "        vertical-align: top;\n",
       "    }\n",
       "\n",
       "    .dataframe thead th {\n",
       "        text-align: right;\n",
       "    }\n",
       "</style>\n",
       "<table border=\"1\" class=\"dataframe\">\n",
       "  <thead>\n",
       "    <tr style=\"text-align: right;\">\n",
       "      <th></th>\n",
       "      <th>payment_amount</th>\n",
       "    </tr>\n",
       "    <tr>\n",
       "      <th>recruitment_channel</th>\n",
       "      <th></th>\n",
       "    </tr>\n",
       "  </thead>\n",
       "  <tbody>\n",
       "    <tr>\n",
       "      <th>apartado_correos</th>\n",
       "      <td>206.163669</td>\n",
       "    </tr>\n",
       "    <tr>\n",
       "      <th>cara_a_cara</th>\n",
       "      <td>135.299288</td>\n",
       "    </tr>\n",
       "    <tr>\n",
       "      <th>llamada</th>\n",
       "      <td>146.460809</td>\n",
       "    </tr>\n",
       "    <tr>\n",
       "      <th>otros</th>\n",
       "      <td>167.995000</td>\n",
       "    </tr>\n",
       "    <tr>\n",
       "      <th>puerta_a_puerta</th>\n",
       "      <td>158.593193</td>\n",
       "    </tr>\n",
       "    <tr>\n",
       "      <th>web</th>\n",
       "      <td>226.785578</td>\n",
       "    </tr>\n",
       "  </tbody>\n",
       "</table>\n",
       "</div>"
      ],
      "text/plain": [
       "                     payment_amount\n",
       "recruitment_channel                \n",
       "apartado_correos         206.163669\n",
       "cara_a_cara              135.299288\n",
       "llamada                  146.460809\n",
       "otros                    167.995000\n",
       "puerta_a_puerta          158.593193\n",
       "web                      226.785578"
      ]
     },
     "execution_count": 34,
     "metadata": {},
     "output_type": "execute_result"
    }
   ],
   "source": [
    "groupby=inscritos_viejos[inscritos_viejos['gender']== 'mujer'].groupby(['recruitment_channel','account_id']).agg({'payment_amount':'sum'})\n",
    "groupby.groupby('recruitment_channel').agg({'payment_amount':'mean'})"
   ]
  },
  {
   "cell_type": "markdown",
   "metadata": {},
   "source": [
    "Por la $web$ se obtiene la cuota promedio anual más alta, cuyo valor asciende a **226.79 euros**. "
   ]
  },
  {
   "cell_type": "markdown",
   "metadata": {},
   "source": [
    "5. **Crea unos diagramas de caja (boxplot) con la cuota anualizada (ten en cuenta solo las cuotas menores de 500 eur) por canal de captación (recruitment_channel) y en función de los resultados, teniendo en cuenta que queremos maximizar la cuota anualizada de los donativos, ¿Por qué canal/es se debería apostar?**"
   ]
  },
  {
   "cell_type": "code",
   "execution_count": 35,
   "metadata": {},
   "outputs": [],
   "source": [
    "#De la tabla 'gifts_cuotas_union',haciendo un groupby por 'recruitment_channel' y por 'account_id':\n",
    "gifts_cuotas_union_recruitmentchannel_accountid = gifts_cuotas_union.groupby(['recruitment_channel','account_id']).agg({'payment_amount':'sum'})"
   ]
  },
  {
   "cell_type": "code",
   "execution_count": 36,
   "metadata": {},
   "outputs": [],
   "source": [
    "#Haciendo un filtro de las cuotas menores a 500 euros:\n",
    "gifts_cuotas_union_recruitmentchannel_accountid_menores=  gifts_cuotas_union_recruitmentchannel_accountid[gifts_cuotas_union_recruitmentchannel_accountid['payment_amount']<500 ] "
   ]
  },
  {
   "cell_type": "code",
   "execution_count": 37,
   "metadata": {},
   "outputs": [
    {
     "data": {
      "text/html": [
       "<div>\n",
       "<style scoped>\n",
       "    .dataframe tbody tr th:only-of-type {\n",
       "        vertical-align: middle;\n",
       "    }\n",
       "\n",
       "    .dataframe tbody tr th {\n",
       "        vertical-align: top;\n",
       "    }\n",
       "\n",
       "    .dataframe thead th {\n",
       "        text-align: right;\n",
       "    }\n",
       "</style>\n",
       "<table border=\"1\" class=\"dataframe\">\n",
       "  <thead>\n",
       "    <tr style=\"text-align: right;\">\n",
       "      <th></th>\n",
       "      <th></th>\n",
       "      <th>payment_amount</th>\n",
       "    </tr>\n",
       "    <tr>\n",
       "      <th>recruitment_channel</th>\n",
       "      <th>account_id</th>\n",
       "      <th></th>\n",
       "    </tr>\n",
       "  </thead>\n",
       "  <tbody>\n",
       "    <tr>\n",
       "      <th rowspan=\"5\" valign=\"top\">apartado_correos</th>\n",
       "      <th>3000336</th>\n",
       "      <td>300.00</td>\n",
       "    </tr>\n",
       "    <tr>\n",
       "      <th>3000549</th>\n",
       "      <td>165.00</td>\n",
       "    </tr>\n",
       "    <tr>\n",
       "      <th>3003613</th>\n",
       "      <td>195.15</td>\n",
       "    </tr>\n",
       "    <tr>\n",
       "      <th>3004239</th>\n",
       "      <td>300.00</td>\n",
       "    </tr>\n",
       "    <tr>\n",
       "      <th>3004241</th>\n",
       "      <td>372.00</td>\n",
       "    </tr>\n",
       "  </tbody>\n",
       "</table>\n",
       "</div>"
      ],
      "text/plain": [
       "                                payment_amount\n",
       "recruitment_channel account_id                \n",
       "apartado_correos    3000336             300.00\n",
       "                    3000549             165.00\n",
       "                    3003613             195.15\n",
       "                    3004239             300.00\n",
       "                    3004241             372.00"
      ]
     },
     "execution_count": 37,
     "metadata": {},
     "output_type": "execute_result"
    }
   ],
   "source": [
    "gifts_cuotas_union_recruitmentchannel_accountid_menores.head()"
   ]
  },
  {
   "cell_type": "code",
   "execution_count": 38,
   "metadata": {},
   "outputs": [],
   "source": [
    "#Haciendo un groupby de nuevo pero solo por 'recruitment_channel':\n",
    "gifts_cuotas_union_recruitmentchannel_accountid_menores1= gifts_cuotas_union_recruitmentchannel_accountid_menores.groupby('recruitment_channel')"
   ]
  },
  {
   "cell_type": "code",
   "execution_count": 39,
   "metadata": {},
   "outputs": [
    {
     "data": {
      "text/html": [
       "<div>\n",
       "<style scoped>\n",
       "    .dataframe tbody tr th:only-of-type {\n",
       "        vertical-align: middle;\n",
       "    }\n",
       "\n",
       "    .dataframe tbody tr th {\n",
       "        vertical-align: top;\n",
       "    }\n",
       "\n",
       "    .dataframe thead th {\n",
       "        text-align: right;\n",
       "    }\n",
       "</style>\n",
       "<table border=\"1\" class=\"dataframe\">\n",
       "  <thead>\n",
       "    <tr style=\"text-align: right;\">\n",
       "      <th></th>\n",
       "      <th></th>\n",
       "      <th>payment_amount</th>\n",
       "    </tr>\n",
       "    <tr>\n",
       "      <th>recruitment_channel</th>\n",
       "      <th>account_id</th>\n",
       "      <th></th>\n",
       "    </tr>\n",
       "  </thead>\n",
       "  <tbody>\n",
       "    <tr>\n",
       "      <th rowspan=\"5\" valign=\"top\">apartado_correos</th>\n",
       "      <th>3000336</th>\n",
       "      <td>300.00</td>\n",
       "    </tr>\n",
       "    <tr>\n",
       "      <th>3000549</th>\n",
       "      <td>165.00</td>\n",
       "    </tr>\n",
       "    <tr>\n",
       "      <th>3003613</th>\n",
       "      <td>195.15</td>\n",
       "    </tr>\n",
       "    <tr>\n",
       "      <th>3004239</th>\n",
       "      <td>300.00</td>\n",
       "    </tr>\n",
       "    <tr>\n",
       "      <th>3004241</th>\n",
       "      <td>372.00</td>\n",
       "    </tr>\n",
       "    <tr>\n",
       "      <th rowspan=\"5\" valign=\"top\">cara_a_cara</th>\n",
       "      <th>3006254</th>\n",
       "      <td>120.36</td>\n",
       "    </tr>\n",
       "    <tr>\n",
       "      <th>3006722</th>\n",
       "      <td>208.80</td>\n",
       "    </tr>\n",
       "    <tr>\n",
       "      <th>3008948</th>\n",
       "      <td>144.00</td>\n",
       "    </tr>\n",
       "    <tr>\n",
       "      <th>3009308</th>\n",
       "      <td>120.00</td>\n",
       "    </tr>\n",
       "    <tr>\n",
       "      <th>3014280</th>\n",
       "      <td>36.00</td>\n",
       "    </tr>\n",
       "    <tr>\n",
       "      <th rowspan=\"5\" valign=\"top\">llamada</th>\n",
       "      <th>3004619</th>\n",
       "      <td>84.00</td>\n",
       "    </tr>\n",
       "    <tr>\n",
       "      <th>3005986</th>\n",
       "      <td>60.00</td>\n",
       "    </tr>\n",
       "    <tr>\n",
       "      <th>3006257</th>\n",
       "      <td>160.00</td>\n",
       "    </tr>\n",
       "    <tr>\n",
       "      <th>3007267</th>\n",
       "      <td>180.00</td>\n",
       "    </tr>\n",
       "    <tr>\n",
       "      <th>3007424</th>\n",
       "      <td>70.00</td>\n",
       "    </tr>\n",
       "    <tr>\n",
       "      <th rowspan=\"5\" valign=\"top\">otros</th>\n",
       "      <th>3142425</th>\n",
       "      <td>155.00</td>\n",
       "    </tr>\n",
       "    <tr>\n",
       "      <th>3185343</th>\n",
       "      <td>190.32</td>\n",
       "    </tr>\n",
       "    <tr>\n",
       "      <th>3253393</th>\n",
       "      <td>216.36</td>\n",
       "    </tr>\n",
       "    <tr>\n",
       "      <th>3286952</th>\n",
       "      <td>180.00</td>\n",
       "    </tr>\n",
       "    <tr>\n",
       "      <th>3339241</th>\n",
       "      <td>72.12</td>\n",
       "    </tr>\n",
       "    <tr>\n",
       "      <th rowspan=\"5\" valign=\"top\">puerta_a_puerta</th>\n",
       "      <th>3004937</th>\n",
       "      <td>180.00</td>\n",
       "    </tr>\n",
       "    <tr>\n",
       "      <th>3022494</th>\n",
       "      <td>60.00</td>\n",
       "    </tr>\n",
       "    <tr>\n",
       "      <th>3023389</th>\n",
       "      <td>120.00</td>\n",
       "    </tr>\n",
       "    <tr>\n",
       "      <th>3024452</th>\n",
       "      <td>360.00</td>\n",
       "    </tr>\n",
       "    <tr>\n",
       "      <th>3024859</th>\n",
       "      <td>120.00</td>\n",
       "    </tr>\n",
       "    <tr>\n",
       "      <th rowspan=\"5\" valign=\"top\">web</th>\n",
       "      <th>3000610</th>\n",
       "      <td>240.00</td>\n",
       "    </tr>\n",
       "    <tr>\n",
       "      <th>3004202</th>\n",
       "      <td>432.00</td>\n",
       "    </tr>\n",
       "    <tr>\n",
       "      <th>3004223</th>\n",
       "      <td>401.16</td>\n",
       "    </tr>\n",
       "    <tr>\n",
       "      <th>3004322</th>\n",
       "      <td>174.48</td>\n",
       "    </tr>\n",
       "    <tr>\n",
       "      <th>3005186</th>\n",
       "      <td>240.00</td>\n",
       "    </tr>\n",
       "  </tbody>\n",
       "</table>\n",
       "</div>"
      ],
      "text/plain": [
       "                                payment_amount\n",
       "recruitment_channel account_id                \n",
       "apartado_correos    3000336             300.00\n",
       "                    3000549             165.00\n",
       "                    3003613             195.15\n",
       "                    3004239             300.00\n",
       "                    3004241             372.00\n",
       "cara_a_cara         3006254             120.36\n",
       "                    3006722             208.80\n",
       "                    3008948             144.00\n",
       "                    3009308             120.00\n",
       "                    3014280              36.00\n",
       "llamada             3004619              84.00\n",
       "                    3005986              60.00\n",
       "                    3006257             160.00\n",
       "                    3007267             180.00\n",
       "                    3007424              70.00\n",
       "otros               3142425             155.00\n",
       "                    3185343             190.32\n",
       "                    3253393             216.36\n",
       "                    3286952             180.00\n",
       "                    3339241              72.12\n",
       "puerta_a_puerta     3004937             180.00\n",
       "                    3022494              60.00\n",
       "                    3023389             120.00\n",
       "                    3024452             360.00\n",
       "                    3024859             120.00\n",
       "web                 3000610             240.00\n",
       "                    3004202             432.00\n",
       "                    3004223             401.16\n",
       "                    3004322             174.48\n",
       "                    3005186             240.00"
      ]
     },
     "execution_count": 39,
     "metadata": {},
     "output_type": "execute_result"
    }
   ],
   "source": [
    "gifts_cuotas_union_recruitmentchannel_accountid_menores1.head()"
   ]
  },
  {
   "cell_type": "code",
   "execution_count": 40,
   "metadata": {},
   "outputs": [
    {
     "data": {
      "image/png": "[encoded data removed]",
      "text/plain": [
       "<Figure size 1152x648 with 6 Axes>"
      ]
     },
     "metadata": {},
     "output_type": "display_data"
    }
   ],
   "source": [
    "#Graficando los plots:\n",
    "gifts_cuotas_union_recruitmentchannel_accountid_menores1.boxplot(figsize=(16,9))\n",
    "plt.show()"
   ]
  },
  {
   "cell_type": "markdown",
   "metadata": {},
   "source": [
    "Apostaria por `apartados_correos`, la `web` y `puerta_a_puerta`"
   ]
  }
 ],
 "metadata": {
  "kernelspec": {
   "display_name": "Python 3",
   "language": "python",
   "name": "python3"
  },
  "language_info": {
   "codemirror_mode": {
    "name": "ipython",
    "version": 3
   },
   "file_extension": ".py",
   "mimetype": "text/x-python",
   "name": "python",
   "nbconvert_exporter": "python",
   "pygments_lexer": "ipython3",
   "version": "3.7.0"
  }
 },
 "nbformat": 4,
 "nbformat_minor": 2
}
